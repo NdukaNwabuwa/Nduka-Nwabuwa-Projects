{
 "cells": [
  {
   "cell_type": "markdown",
   "id": "35d7c55a",
   "metadata": {},
   "source": [
    "# 10Alytics Capstone Project- Blossom Bank PLC"
   ]
  },
  {
   "cell_type": "markdown",
   "id": "c841b959",
   "metadata": {},
   "source": [
    "## Online Payments Fraud Detection"
   ]
  },
  {
   "cell_type": "markdown",
   "id": "06edd539",
   "metadata": {},
   "source": [
    "### Problem Definition\n",
    "\n",
    "- Identification of transaction types that can lead to fraud.\n",
    "\n",
    "- Identification of fraud in payment.\n",
    "\n",
    "### How will the business benefit from your solution\n",
    "\n",
    "Given the insight gained from the data set, Blossom Bank can choose to adopt the use of any of the ML Algorithms tested to Block Fake Accounts, Detect Payment Fraud and Prevent Content Spam."
   ]
  },
  {
   "cell_type": "code",
   "execution_count": 1,
   "id": "c3f74120",
   "metadata": {},
   "outputs": [],
   "source": [
    "# Import all the necessary libraries\n",
    "import pandas as pd\n",
    "import numpy as np\n",
    "\n",
    "# Data visualization\n",
    "import matplotlib.pyplot as plt\n",
    "import seaborn as sns\n",
    "\n",
    "import warnings\n",
    "warnings.filterwarnings(\"ignore\")"
   ]
  },
  {
   "cell_type": "markdown",
   "id": "07ed4d53",
   "metadata": {},
   "source": [
    "## Data Inspection"
   ]
  },
  {
   "cell_type": "code",
   "execution_count": 2,
   "id": "cd76bb67",
   "metadata": {},
   "outputs": [],
   "source": [
    "# Load the dataset - Online Payment Fraud Detection.csv\n",
    "\n",
    "df = pd.read_csv(r'C:\\Users\\DANIEL\\Downloads\\DATA\\CAPSTONE PROJECT\\Online Payment Fraud Detection.csv')"
   ]
  },
  {
   "cell_type": "code",
   "execution_count": 3,
   "id": "6d96a0ae",
   "metadata": {},
   "outputs": [
    {
     "data": {
      "text/html": [
       "<div>\n",
       "<style scoped>\n",
       "    .dataframe tbody tr th:only-of-type {\n",
       "        vertical-align: middle;\n",
       "    }\n",
       "\n",
       "    .dataframe tbody tr th {\n",
       "        vertical-align: top;\n",
       "    }\n",
       "\n",
       "    .dataframe thead th {\n",
       "        text-align: right;\n",
       "    }\n",
       "</style>\n",
       "<table border=\"1\" class=\"dataframe\">\n",
       "  <thead>\n",
       "    <tr style=\"text-align: right;\">\n",
       "      <th></th>\n",
       "      <th>step</th>\n",
       "      <th>type</th>\n",
       "      <th>amount</th>\n",
       "      <th>nameOrig</th>\n",
       "      <th>oldbalanceOrg</th>\n",
       "      <th>newbalanceOrig</th>\n",
       "      <th>nameDest</th>\n",
       "      <th>oldbalanceDest</th>\n",
       "      <th>newbalanceDest</th>\n",
       "      <th>isFraud</th>\n",
       "    </tr>\n",
       "  </thead>\n",
       "  <tbody>\n",
       "    <tr>\n",
       "      <th>0</th>\n",
       "      <td>1</td>\n",
       "      <td>PAYMENT</td>\n",
       "      <td>9839.64</td>\n",
       "      <td>C1231006815</td>\n",
       "      <td>170136.0</td>\n",
       "      <td>160296.36</td>\n",
       "      <td>M1979787155</td>\n",
       "      <td>0.0</td>\n",
       "      <td>0.0</td>\n",
       "      <td>0</td>\n",
       "    </tr>\n",
       "    <tr>\n",
       "      <th>1</th>\n",
       "      <td>1</td>\n",
       "      <td>PAYMENT</td>\n",
       "      <td>1864.28</td>\n",
       "      <td>C1666544295</td>\n",
       "      <td>21249.0</td>\n",
       "      <td>19384.72</td>\n",
       "      <td>M2044282225</td>\n",
       "      <td>0.0</td>\n",
       "      <td>0.0</td>\n",
       "      <td>0</td>\n",
       "    </tr>\n",
       "    <tr>\n",
       "      <th>2</th>\n",
       "      <td>1</td>\n",
       "      <td>TRANSFER</td>\n",
       "      <td>181.00</td>\n",
       "      <td>C1305486145</td>\n",
       "      <td>181.0</td>\n",
       "      <td>0.00</td>\n",
       "      <td>C553264065</td>\n",
       "      <td>0.0</td>\n",
       "      <td>0.0</td>\n",
       "      <td>1</td>\n",
       "    </tr>\n",
       "    <tr>\n",
       "      <th>3</th>\n",
       "      <td>1</td>\n",
       "      <td>CASH_OUT</td>\n",
       "      <td>181.00</td>\n",
       "      <td>C840083671</td>\n",
       "      <td>181.0</td>\n",
       "      <td>0.00</td>\n",
       "      <td>C38997010</td>\n",
       "      <td>21182.0</td>\n",
       "      <td>0.0</td>\n",
       "      <td>1</td>\n",
       "    </tr>\n",
       "    <tr>\n",
       "      <th>4</th>\n",
       "      <td>1</td>\n",
       "      <td>PAYMENT</td>\n",
       "      <td>11668.14</td>\n",
       "      <td>C2048537720</td>\n",
       "      <td>41554.0</td>\n",
       "      <td>29885.86</td>\n",
       "      <td>M1230701703</td>\n",
       "      <td>0.0</td>\n",
       "      <td>0.0</td>\n",
       "      <td>0</td>\n",
       "    </tr>\n",
       "  </tbody>\n",
       "</table>\n",
       "</div>"
      ],
      "text/plain": [
       "   step      type    amount     nameOrig  oldbalanceOrg  newbalanceOrig  \\\n",
       "0     1   PAYMENT   9839.64  C1231006815       170136.0       160296.36   \n",
       "1     1   PAYMENT   1864.28  C1666544295        21249.0        19384.72   \n",
       "2     1  TRANSFER    181.00  C1305486145          181.0            0.00   \n",
       "3     1  CASH_OUT    181.00   C840083671          181.0            0.00   \n",
       "4     1   PAYMENT  11668.14  C2048537720        41554.0        29885.86   \n",
       "\n",
       "      nameDest  oldbalanceDest  newbalanceDest  isFraud  \n",
       "0  M1979787155             0.0             0.0        0  \n",
       "1  M2044282225             0.0             0.0        0  \n",
       "2   C553264065             0.0             0.0        1  \n",
       "3    C38997010         21182.0             0.0        1  \n",
       "4  M1230701703             0.0             0.0        0  "
      ]
     },
     "execution_count": 3,
     "metadata": {},
     "output_type": "execute_result"
    }
   ],
   "source": [
    "# View Data (first 5 rows of the data set)\n",
    "\n",
    "df.head()"
   ]
  },
  {
   "cell_type": "code",
   "execution_count": 4,
   "id": "4dc67601",
   "metadata": {},
   "outputs": [
    {
     "data": {
      "text/html": [
       "<div>\n",
       "<style scoped>\n",
       "    .dataframe tbody tr th:only-of-type {\n",
       "        vertical-align: middle;\n",
       "    }\n",
       "\n",
       "    .dataframe tbody tr th {\n",
       "        vertical-align: top;\n",
       "    }\n",
       "\n",
       "    .dataframe thead th {\n",
       "        text-align: right;\n",
       "    }\n",
       "</style>\n",
       "<table border=\"1\" class=\"dataframe\">\n",
       "  <thead>\n",
       "    <tr style=\"text-align: right;\">\n",
       "      <th></th>\n",
       "      <th>step</th>\n",
       "      <th>type</th>\n",
       "      <th>amount</th>\n",
       "      <th>nameOrig</th>\n",
       "      <th>oldbalanceOrg</th>\n",
       "      <th>newbalanceOrig</th>\n",
       "      <th>nameDest</th>\n",
       "      <th>oldbalanceDest</th>\n",
       "      <th>newbalanceDest</th>\n",
       "      <th>isFraud</th>\n",
       "    </tr>\n",
       "  </thead>\n",
       "  <tbody>\n",
       "    <tr>\n",
       "      <th>1048570</th>\n",
       "      <td>95</td>\n",
       "      <td>CASH_OUT</td>\n",
       "      <td>132557.35</td>\n",
       "      <td>C1179511630</td>\n",
       "      <td>479803.00</td>\n",
       "      <td>347245.65</td>\n",
       "      <td>C435674507</td>\n",
       "      <td>484329.37</td>\n",
       "      <td>616886.72</td>\n",
       "      <td>0</td>\n",
       "    </tr>\n",
       "    <tr>\n",
       "      <th>1048571</th>\n",
       "      <td>95</td>\n",
       "      <td>PAYMENT</td>\n",
       "      <td>9917.36</td>\n",
       "      <td>C1956161225</td>\n",
       "      <td>90545.00</td>\n",
       "      <td>80627.64</td>\n",
       "      <td>M668364942</td>\n",
       "      <td>0.00</td>\n",
       "      <td>0.00</td>\n",
       "      <td>0</td>\n",
       "    </tr>\n",
       "    <tr>\n",
       "      <th>1048572</th>\n",
       "      <td>95</td>\n",
       "      <td>PAYMENT</td>\n",
       "      <td>14140.05</td>\n",
       "      <td>C2037964975</td>\n",
       "      <td>20545.00</td>\n",
       "      <td>6404.95</td>\n",
       "      <td>M1355182933</td>\n",
       "      <td>0.00</td>\n",
       "      <td>0.00</td>\n",
       "      <td>0</td>\n",
       "    </tr>\n",
       "    <tr>\n",
       "      <th>1048573</th>\n",
       "      <td>95</td>\n",
       "      <td>PAYMENT</td>\n",
       "      <td>10020.05</td>\n",
       "      <td>C1633237354</td>\n",
       "      <td>90605.00</td>\n",
       "      <td>80584.95</td>\n",
       "      <td>M1964992463</td>\n",
       "      <td>0.00</td>\n",
       "      <td>0.00</td>\n",
       "      <td>0</td>\n",
       "    </tr>\n",
       "    <tr>\n",
       "      <th>1048574</th>\n",
       "      <td>95</td>\n",
       "      <td>PAYMENT</td>\n",
       "      <td>11450.03</td>\n",
       "      <td>C1264356443</td>\n",
       "      <td>80584.95</td>\n",
       "      <td>69134.92</td>\n",
       "      <td>M677577406</td>\n",
       "      <td>0.00</td>\n",
       "      <td>0.00</td>\n",
       "      <td>0</td>\n",
       "    </tr>\n",
       "  </tbody>\n",
       "</table>\n",
       "</div>"
      ],
      "text/plain": [
       "         step      type     amount     nameOrig  oldbalanceOrg  \\\n",
       "1048570    95  CASH_OUT  132557.35  C1179511630      479803.00   \n",
       "1048571    95   PAYMENT    9917.36  C1956161225       90545.00   \n",
       "1048572    95   PAYMENT   14140.05  C2037964975       20545.00   \n",
       "1048573    95   PAYMENT   10020.05  C1633237354       90605.00   \n",
       "1048574    95   PAYMENT   11450.03  C1264356443       80584.95   \n",
       "\n",
       "         newbalanceOrig     nameDest  oldbalanceDest  newbalanceDest  isFraud  \n",
       "1048570       347245.65   C435674507       484329.37       616886.72        0  \n",
       "1048571        80627.64   M668364942            0.00            0.00        0  \n",
       "1048572         6404.95  M1355182933            0.00            0.00        0  \n",
       "1048573        80584.95  M1964992463            0.00            0.00        0  \n",
       "1048574        69134.92   M677577406            0.00            0.00        0  "
      ]
     },
     "execution_count": 4,
     "metadata": {},
     "output_type": "execute_result"
    }
   ],
   "source": [
    "# Buttom 5 rows\n",
    "\n",
    "df.tail()"
   ]
  },
  {
   "cell_type": "markdown",
   "id": "2e383b5d",
   "metadata": {},
   "source": [
    "## Data Dictionary\n",
    "\n",
    "• step: represents a unit of time where 1 step equals 1 hour\n",
    "\n",
    "• type: type of online transaction\n",
    "\n",
    "• amount: the amount of the transaction\n",
    "\n",
    "• nameOrig: customer starting the transaction\n",
    "\n",
    "• oldbalanceOrg: balance before the transaction\n",
    "\n",
    "• newbalanceOrig: balance after the transaction\n",
    "\n",
    "• nameDest: recipient of the transaction\n",
    "\n",
    "• oldbalanceDest: initial balance of recipient before the transaction\n",
    "\n",
    "• newbalanceDest: the new balance of the recipient after the transaction\n",
    "\n",
    "• isFraud: fraud transaction"
   ]
  },
  {
   "cell_type": "code",
   "execution_count": 5,
   "id": "d29795c0",
   "metadata": {},
   "outputs": [
    {
     "data": {
      "text/html": [
       "<div>\n",
       "<style scoped>\n",
       "    .dataframe tbody tr th:only-of-type {\n",
       "        vertical-align: middle;\n",
       "    }\n",
       "\n",
       "    .dataframe tbody tr th {\n",
       "        vertical-align: top;\n",
       "    }\n",
       "\n",
       "    .dataframe thead th {\n",
       "        text-align: right;\n",
       "    }\n",
       "</style>\n",
       "<table border=\"1\" class=\"dataframe\">\n",
       "  <thead>\n",
       "    <tr style=\"text-align: right;\">\n",
       "      <th></th>\n",
       "      <th>step</th>\n",
       "      <th>transaction type</th>\n",
       "      <th>amount</th>\n",
       "      <th>customer id</th>\n",
       "      <th>previous balance</th>\n",
       "      <th>present balance</th>\n",
       "      <th>receiver id</th>\n",
       "      <th>receiver previous balance</th>\n",
       "      <th>receiver present balance</th>\n",
       "      <th>fraudulent transaction</th>\n",
       "    </tr>\n",
       "  </thead>\n",
       "  <tbody>\n",
       "    <tr>\n",
       "      <th>0</th>\n",
       "      <td>1</td>\n",
       "      <td>PAYMENT</td>\n",
       "      <td>9839.64</td>\n",
       "      <td>C1231006815</td>\n",
       "      <td>170136.0</td>\n",
       "      <td>160296.36</td>\n",
       "      <td>M1979787155</td>\n",
       "      <td>0.0</td>\n",
       "      <td>0.0</td>\n",
       "      <td>0</td>\n",
       "    </tr>\n",
       "    <tr>\n",
       "      <th>1</th>\n",
       "      <td>1</td>\n",
       "      <td>PAYMENT</td>\n",
       "      <td>1864.28</td>\n",
       "      <td>C1666544295</td>\n",
       "      <td>21249.0</td>\n",
       "      <td>19384.72</td>\n",
       "      <td>M2044282225</td>\n",
       "      <td>0.0</td>\n",
       "      <td>0.0</td>\n",
       "      <td>0</td>\n",
       "    </tr>\n",
       "    <tr>\n",
       "      <th>2</th>\n",
       "      <td>1</td>\n",
       "      <td>TRANSFER</td>\n",
       "      <td>181.00</td>\n",
       "      <td>C1305486145</td>\n",
       "      <td>181.0</td>\n",
       "      <td>0.00</td>\n",
       "      <td>C553264065</td>\n",
       "      <td>0.0</td>\n",
       "      <td>0.0</td>\n",
       "      <td>1</td>\n",
       "    </tr>\n",
       "    <tr>\n",
       "      <th>3</th>\n",
       "      <td>1</td>\n",
       "      <td>CASH_OUT</td>\n",
       "      <td>181.00</td>\n",
       "      <td>C840083671</td>\n",
       "      <td>181.0</td>\n",
       "      <td>0.00</td>\n",
       "      <td>C38997010</td>\n",
       "      <td>21182.0</td>\n",
       "      <td>0.0</td>\n",
       "      <td>1</td>\n",
       "    </tr>\n",
       "    <tr>\n",
       "      <th>4</th>\n",
       "      <td>1</td>\n",
       "      <td>PAYMENT</td>\n",
       "      <td>11668.14</td>\n",
       "      <td>C2048537720</td>\n",
       "      <td>41554.0</td>\n",
       "      <td>29885.86</td>\n",
       "      <td>M1230701703</td>\n",
       "      <td>0.0</td>\n",
       "      <td>0.0</td>\n",
       "      <td>0</td>\n",
       "    </tr>\n",
       "  </tbody>\n",
       "</table>\n",
       "</div>"
      ],
      "text/plain": [
       "   step transaction type    amount  customer id  previous balance  \\\n",
       "0     1          PAYMENT   9839.64  C1231006815          170136.0   \n",
       "1     1          PAYMENT   1864.28  C1666544295           21249.0   \n",
       "2     1         TRANSFER    181.00  C1305486145             181.0   \n",
       "3     1         CASH_OUT    181.00   C840083671             181.0   \n",
       "4     1          PAYMENT  11668.14  C2048537720           41554.0   \n",
       "\n",
       "   present balance  receiver id  receiver previous balance  \\\n",
       "0        160296.36  M1979787155                        0.0   \n",
       "1         19384.72  M2044282225                        0.0   \n",
       "2             0.00   C553264065                        0.0   \n",
       "3             0.00    C38997010                    21182.0   \n",
       "4         29885.86  M1230701703                        0.0   \n",
       "\n",
       "   receiver present balance  fraudulent transaction  \n",
       "0                       0.0                       0  \n",
       "1                       0.0                       0  \n",
       "2                       0.0                       1  \n",
       "3                       0.0                       1  \n",
       "4                       0.0                       0  "
      ]
     },
     "execution_count": 5,
     "metadata": {},
     "output_type": "execute_result"
    }
   ],
   "source": [
    "# Rename the column headers\n",
    "\n",
    "df.columns = [\"step\", \"transaction type\", \"amount\", \"customer id\", \"previous balance\", \"present balance\", \"receiver id\", \"receiver previous balance\", \"receiver present balance\", \"fraudulent transaction\"]\n",
    "\n",
    "df.head()"
   ]
  },
  {
   "cell_type": "code",
   "execution_count": 6,
   "id": "bea0d458",
   "metadata": {},
   "outputs": [
    {
     "name": "stdout",
     "output_type": "stream",
     "text": [
      "<class 'pandas.core.frame.DataFrame'>\n",
      "RangeIndex: 1048575 entries, 0 to 1048574\n",
      "Data columns (total 10 columns):\n",
      " #   Column                     Non-Null Count    Dtype  \n",
      "---  ------                     --------------    -----  \n",
      " 0   step                       1048575 non-null  int64  \n",
      " 1   transaction type           1048575 non-null  object \n",
      " 2   amount                     1048575 non-null  float64\n",
      " 3   customer id                1048575 non-null  object \n",
      " 4   previous balance           1048575 non-null  float64\n",
      " 5   present balance            1048575 non-null  float64\n",
      " 6   receiver id                1048575 non-null  object \n",
      " 7   receiver previous balance  1048575 non-null  float64\n",
      " 8   receiver present balance   1048575 non-null  float64\n",
      " 9   fraudulent transaction     1048575 non-null  int64  \n",
      "dtypes: float64(5), int64(2), object(3)\n",
      "memory usage: 80.0+ MB\n"
     ]
    }
   ],
   "source": [
    "# Data verification\n",
    "\n",
    "df.info()"
   ]
  },
  {
   "cell_type": "code",
   "execution_count": 7,
   "id": "75d4c960",
   "metadata": {},
   "outputs": [
    {
     "data": {
      "text/plain": [
       "(1048575, 10)"
      ]
     },
     "execution_count": 7,
     "metadata": {},
     "output_type": "execute_result"
    }
   ],
   "source": [
    "# Dimension of the data\n",
    "\n",
    "df.shape"
   ]
  },
  {
   "cell_type": "code",
   "execution_count": 8,
   "id": "264a2c23",
   "metadata": {},
   "outputs": [
    {
     "data": {
      "text/html": [
       "<div>\n",
       "<style scoped>\n",
       "    .dataframe tbody tr th:only-of-type {\n",
       "        vertical-align: middle;\n",
       "    }\n",
       "\n",
       "    .dataframe tbody tr th {\n",
       "        vertical-align: top;\n",
       "    }\n",
       "\n",
       "    .dataframe thead th {\n",
       "        text-align: right;\n",
       "    }\n",
       "</style>\n",
       "<table border=\"1\" class=\"dataframe\">\n",
       "  <thead>\n",
       "    <tr style=\"text-align: right;\">\n",
       "      <th></th>\n",
       "      <th>step</th>\n",
       "      <th>amount</th>\n",
       "      <th>previous balance</th>\n",
       "      <th>present balance</th>\n",
       "      <th>receiver previous balance</th>\n",
       "      <th>receiver present balance</th>\n",
       "      <th>fraudulent transaction</th>\n",
       "    </tr>\n",
       "  </thead>\n",
       "  <tbody>\n",
       "    <tr>\n",
       "      <th>count</th>\n",
       "      <td>1048575</td>\n",
       "      <td>1048575</td>\n",
       "      <td>1048575</td>\n",
       "      <td>1048575</td>\n",
       "      <td>1048575</td>\n",
       "      <td>1048575</td>\n",
       "      <td>1048575</td>\n",
       "    </tr>\n",
       "    <tr>\n",
       "      <th>mean</th>\n",
       "      <td>26</td>\n",
       "      <td>158666</td>\n",
       "      <td>874009</td>\n",
       "      <td>893808</td>\n",
       "      <td>978160</td>\n",
       "      <td>1114197</td>\n",
       "      <td>0</td>\n",
       "    </tr>\n",
       "    <tr>\n",
       "      <th>std</th>\n",
       "      <td>15</td>\n",
       "      <td>264940</td>\n",
       "      <td>2971750</td>\n",
       "      <td>3008271</td>\n",
       "      <td>2296780</td>\n",
       "      <td>2416593</td>\n",
       "      <td>0</td>\n",
       "    </tr>\n",
       "    <tr>\n",
       "      <th>min</th>\n",
       "      <td>1</td>\n",
       "      <td>0</td>\n",
       "      <td>0</td>\n",
       "      <td>0</td>\n",
       "      <td>0</td>\n",
       "      <td>0</td>\n",
       "      <td>0</td>\n",
       "    </tr>\n",
       "    <tr>\n",
       "      <th>25%</th>\n",
       "      <td>15</td>\n",
       "      <td>12149</td>\n",
       "      <td>0</td>\n",
       "      <td>0</td>\n",
       "      <td>0</td>\n",
       "      <td>0</td>\n",
       "      <td>0</td>\n",
       "    </tr>\n",
       "    <tr>\n",
       "      <th>50%</th>\n",
       "      <td>20</td>\n",
       "      <td>76343</td>\n",
       "      <td>16002</td>\n",
       "      <td>0</td>\n",
       "      <td>126377</td>\n",
       "      <td>218260</td>\n",
       "      <td>0</td>\n",
       "    </tr>\n",
       "    <tr>\n",
       "      <th>75%</th>\n",
       "      <td>39</td>\n",
       "      <td>213761</td>\n",
       "      <td>136642</td>\n",
       "      <td>174599</td>\n",
       "      <td>915923</td>\n",
       "      <td>1149807</td>\n",
       "      <td>0</td>\n",
       "    </tr>\n",
       "    <tr>\n",
       "      <th>max</th>\n",
       "      <td>95</td>\n",
       "      <td>10000000</td>\n",
       "      <td>38900000</td>\n",
       "      <td>38900000</td>\n",
       "      <td>42100000</td>\n",
       "      <td>42200000</td>\n",
       "      <td>1</td>\n",
       "    </tr>\n",
       "  </tbody>\n",
       "</table>\n",
       "</div>"
      ],
      "text/plain": [
       "          step    amount  previous balance  present balance  \\\n",
       "count  1048575   1048575           1048575          1048575   \n",
       "mean        26    158666            874009           893808   \n",
       "std         15    264940           2971750          3008271   \n",
       "min          1         0                 0                0   \n",
       "25%         15     12149                 0                0   \n",
       "50%         20     76343             16002                0   \n",
       "75%         39    213761            136642           174599   \n",
       "max         95  10000000          38900000         38900000   \n",
       "\n",
       "       receiver previous balance  receiver present balance  \\\n",
       "count                    1048575                   1048575   \n",
       "mean                      978160                   1114197   \n",
       "std                      2296780                   2416593   \n",
       "min                            0                         0   \n",
       "25%                            0                         0   \n",
       "50%                       126377                    218260   \n",
       "75%                       915923                   1149807   \n",
       "max                     42100000                  42200000   \n",
       "\n",
       "       fraudulent transaction  \n",
       "count                 1048575  \n",
       "mean                        0  \n",
       "std                         0  \n",
       "min                         0  \n",
       "25%                         0  \n",
       "50%                         0  \n",
       "75%                         0  \n",
       "max                         1  "
      ]
     },
     "execution_count": 8,
     "metadata": {},
     "output_type": "execute_result"
    }
   ],
   "source": [
    "# Statistical Analysis of the data\n",
    "\n",
    "df.describe().astype(int)"
   ]
  },
  {
   "cell_type": "code",
   "execution_count": 9,
   "id": "7a8a17da",
   "metadata": {},
   "outputs": [
    {
     "data": {
      "text/plain": [
       "step                         0\n",
       "transaction type             0\n",
       "amount                       0\n",
       "customer id                  0\n",
       "previous balance             0\n",
       "present balance              0\n",
       "receiver id                  0\n",
       "receiver previous balance    0\n",
       "receiver present balance     0\n",
       "fraudulent transaction       0\n",
       "dtype: int64"
      ]
     },
     "execution_count": 9,
     "metadata": {},
     "output_type": "execute_result"
    }
   ],
   "source": [
    "# Missing Value\n",
    "\n",
    "df.isnull().sum()"
   ]
  },
  {
   "cell_type": "code",
   "execution_count": 10,
   "id": "2f2643dc",
   "metadata": {},
   "outputs": [
    {
     "data": {
      "text/plain": [
       "<AxesSubplot:title={'center':'Visualizing missing values in dataset'}>"
      ]
     },
     "execution_count": 10,
     "metadata": {},
     "output_type": "execute_result"
    },
    {
     "data": {
      "image/png": "[encoded data removed]",
      "text/plain": [
       "<Figure size 720x360 with 2 Axes>"
      ]
     },
     "metadata": {
      "needs_background": "light"
     },
     "output_type": "display_data"
    }
   ],
   "source": [
    "# Visualizing missing values\n",
    "\n",
    "plt.figure(figsize = (10, 5))\n",
    "plt.title(\"Visualizing missing values in dataset\")\n",
    "sns.heatmap(df.isnull(), cbar=True, cmap=\"YlGnBu_r\")"
   ]
  },
  {
   "cell_type": "markdown",
   "id": "8ebe9cee",
   "metadata": {},
   "source": [
    "## Exploratory Data Analysis"
   ]
  },
  {
   "cell_type": "markdown",
   "id": "d89fcb98",
   "metadata": {},
   "source": [
    "### Univariate Analysis"
   ]
  },
  {
   "cell_type": "code",
   "execution_count": 11,
   "id": "afb46906",
   "metadata": {},
   "outputs": [],
   "source": [
    "# Drop redundant columns\n",
    "\n",
    "df.drop([\"customer id\", \"receiver id\"], axis = 1, inplace = True)"
   ]
  },
  {
   "cell_type": "code",
   "execution_count": 12,
   "id": "065088c6",
   "metadata": {},
   "outputs": [
    {
     "data": {
      "text/html": [
       "<div>\n",
       "<style scoped>\n",
       "    .dataframe tbody tr th:only-of-type {\n",
       "        vertical-align: middle;\n",
       "    }\n",
       "\n",
       "    .dataframe tbody tr th {\n",
       "        vertical-align: top;\n",
       "    }\n",
       "\n",
       "    .dataframe thead th {\n",
       "        text-align: right;\n",
       "    }\n",
       "</style>\n",
       "<table border=\"1\" class=\"dataframe\">\n",
       "  <thead>\n",
       "    <tr style=\"text-align: right;\">\n",
       "      <th></th>\n",
       "      <th>step</th>\n",
       "      <th>transaction type</th>\n",
       "      <th>amount</th>\n",
       "      <th>previous balance</th>\n",
       "      <th>present balance</th>\n",
       "      <th>receiver previous balance</th>\n",
       "      <th>receiver present balance</th>\n",
       "      <th>fraudulent transaction</th>\n",
       "    </tr>\n",
       "  </thead>\n",
       "  <tbody>\n",
       "    <tr>\n",
       "      <th>0</th>\n",
       "      <td>1</td>\n",
       "      <td>PAYMENT</td>\n",
       "      <td>9839.64</td>\n",
       "      <td>170136.0</td>\n",
       "      <td>160296.36</td>\n",
       "      <td>0.0</td>\n",
       "      <td>0.0</td>\n",
       "      <td>0</td>\n",
       "    </tr>\n",
       "    <tr>\n",
       "      <th>1</th>\n",
       "      <td>1</td>\n",
       "      <td>PAYMENT</td>\n",
       "      <td>1864.28</td>\n",
       "      <td>21249.0</td>\n",
       "      <td>19384.72</td>\n",
       "      <td>0.0</td>\n",
       "      <td>0.0</td>\n",
       "      <td>0</td>\n",
       "    </tr>\n",
       "    <tr>\n",
       "      <th>2</th>\n",
       "      <td>1</td>\n",
       "      <td>TRANSFER</td>\n",
       "      <td>181.00</td>\n",
       "      <td>181.0</td>\n",
       "      <td>0.00</td>\n",
       "      <td>0.0</td>\n",
       "      <td>0.0</td>\n",
       "      <td>1</td>\n",
       "    </tr>\n",
       "    <tr>\n",
       "      <th>3</th>\n",
       "      <td>1</td>\n",
       "      <td>CASH_OUT</td>\n",
       "      <td>181.00</td>\n",
       "      <td>181.0</td>\n",
       "      <td>0.00</td>\n",
       "      <td>21182.0</td>\n",
       "      <td>0.0</td>\n",
       "      <td>1</td>\n",
       "    </tr>\n",
       "    <tr>\n",
       "      <th>4</th>\n",
       "      <td>1</td>\n",
       "      <td>PAYMENT</td>\n",
       "      <td>11668.14</td>\n",
       "      <td>41554.0</td>\n",
       "      <td>29885.86</td>\n",
       "      <td>0.0</td>\n",
       "      <td>0.0</td>\n",
       "      <td>0</td>\n",
       "    </tr>\n",
       "  </tbody>\n",
       "</table>\n",
       "</div>"
      ],
      "text/plain": [
       "   step transaction type    amount  previous balance  present balance  \\\n",
       "0     1          PAYMENT   9839.64          170136.0        160296.36   \n",
       "1     1          PAYMENT   1864.28           21249.0         19384.72   \n",
       "2     1         TRANSFER    181.00             181.0             0.00   \n",
       "3     1         CASH_OUT    181.00             181.0             0.00   \n",
       "4     1          PAYMENT  11668.14           41554.0         29885.86   \n",
       "\n",
       "   receiver previous balance  receiver present balance  fraudulent transaction  \n",
       "0                        0.0                       0.0                       0  \n",
       "1                        0.0                       0.0                       0  \n",
       "2                        0.0                       0.0                       1  \n",
       "3                    21182.0                       0.0                       1  \n",
       "4                        0.0                       0.0                       0  "
      ]
     },
     "execution_count": 12,
     "metadata": {},
     "output_type": "execute_result"
    }
   ],
   "source": [
    "df.head()"
   ]
  },
  {
   "cell_type": "code",
   "execution_count": 13,
   "id": "eedefc41",
   "metadata": {},
   "outputs": [],
   "source": [
    "# Creating new columns for easy visualization"
   ]
  },
  {
   "cell_type": "code",
   "execution_count": 14,
   "id": "214693b6",
   "metadata": {},
   "outputs": [
    {
     "data": {
      "text/html": [
       "<div>\n",
       "<style scoped>\n",
       "    .dataframe tbody tr th:only-of-type {\n",
       "        vertical-align: middle;\n",
       "    }\n",
       "\n",
       "    .dataframe tbody tr th {\n",
       "        vertical-align: top;\n",
       "    }\n",
       "\n",
       "    .dataframe thead th {\n",
       "        text-align: right;\n",
       "    }\n",
       "</style>\n",
       "<table border=\"1\" class=\"dataframe\">\n",
       "  <thead>\n",
       "    <tr style=\"text-align: right;\">\n",
       "      <th></th>\n",
       "      <th>step</th>\n",
       "      <th>transaction type</th>\n",
       "      <th>amount</th>\n",
       "      <th>previous balance</th>\n",
       "      <th>present balance</th>\n",
       "      <th>receiver previous balance</th>\n",
       "      <th>receiver present balance</th>\n",
       "      <th>fraudulent transaction</th>\n",
       "      <th>amount_group</th>\n",
       "    </tr>\n",
       "  </thead>\n",
       "  <tbody>\n",
       "    <tr>\n",
       "      <th>0</th>\n",
       "      <td>1</td>\n",
       "      <td>PAYMENT</td>\n",
       "      <td>9839.64</td>\n",
       "      <td>170136.0</td>\n",
       "      <td>160296.36</td>\n",
       "      <td>0.0</td>\n",
       "      <td>0.0</td>\n",
       "      <td>0</td>\n",
       "      <td>&lt;=2M</td>\n",
       "    </tr>\n",
       "    <tr>\n",
       "      <th>1</th>\n",
       "      <td>1</td>\n",
       "      <td>PAYMENT</td>\n",
       "      <td>1864.28</td>\n",
       "      <td>21249.0</td>\n",
       "      <td>19384.72</td>\n",
       "      <td>0.0</td>\n",
       "      <td>0.0</td>\n",
       "      <td>0</td>\n",
       "      <td>&lt;=2M</td>\n",
       "    </tr>\n",
       "    <tr>\n",
       "      <th>2</th>\n",
       "      <td>1</td>\n",
       "      <td>TRANSFER</td>\n",
       "      <td>181.00</td>\n",
       "      <td>181.0</td>\n",
       "      <td>0.00</td>\n",
       "      <td>0.0</td>\n",
       "      <td>0.0</td>\n",
       "      <td>1</td>\n",
       "      <td>&lt;=2M</td>\n",
       "    </tr>\n",
       "    <tr>\n",
       "      <th>3</th>\n",
       "      <td>1</td>\n",
       "      <td>CASH_OUT</td>\n",
       "      <td>181.00</td>\n",
       "      <td>181.0</td>\n",
       "      <td>0.00</td>\n",
       "      <td>21182.0</td>\n",
       "      <td>0.0</td>\n",
       "      <td>1</td>\n",
       "      <td>&lt;=2M</td>\n",
       "    </tr>\n",
       "    <tr>\n",
       "      <th>4</th>\n",
       "      <td>1</td>\n",
       "      <td>PAYMENT</td>\n",
       "      <td>11668.14</td>\n",
       "      <td>41554.0</td>\n",
       "      <td>29885.86</td>\n",
       "      <td>0.0</td>\n",
       "      <td>0.0</td>\n",
       "      <td>0</td>\n",
       "      <td>&lt;=2M</td>\n",
       "    </tr>\n",
       "  </tbody>\n",
       "</table>\n",
       "</div>"
      ],
      "text/plain": [
       "   step transaction type    amount  previous balance  present balance  \\\n",
       "0     1          PAYMENT   9839.64          170136.0        160296.36   \n",
       "1     1          PAYMENT   1864.28           21249.0         19384.72   \n",
       "2     1         TRANSFER    181.00             181.0             0.00   \n",
       "3     1         CASH_OUT    181.00             181.0             0.00   \n",
       "4     1          PAYMENT  11668.14           41554.0         29885.86   \n",
       "\n",
       "   receiver previous balance  receiver present balance  \\\n",
       "0                        0.0                       0.0   \n",
       "1                        0.0                       0.0   \n",
       "2                        0.0                       0.0   \n",
       "3                    21182.0                       0.0   \n",
       "4                        0.0                       0.0   \n",
       "\n",
       "   fraudulent transaction amount_group  \n",
       "0                       0         <=2M  \n",
       "1                       0         <=2M  \n",
       "2                       1         <=2M  \n",
       "3                       1         <=2M  \n",
       "4                       0         <=2M  "
      ]
     },
     "execution_count": 14,
     "metadata": {},
     "output_type": "execute_result"
    }
   ],
   "source": [
    "# amount\n",
    "\n",
    "# create a function that categorises amount\n",
    "\n",
    "def amount_bracket(amount):\n",
    "    if amount <= 2000000:\n",
    "        return \"<=2M\"\n",
    "    elif amount <=4000000:\n",
    "        return \"<=4M\"\n",
    "    elif amount <=6000000:\n",
    "        return \"<=6M\"\n",
    "    elif amount <= 8000000:\n",
    "        return \"<=8M\"\n",
    "    else: \n",
    "        return \">10M)\"\n",
    "    \n",
    "# create a new function for amount category\n",
    "\n",
    "df[\"amount_group\"] = df[\"amount\"].apply(amount_bracket)\n",
    "\n",
    "df.head()"
   ]
  },
  {
   "cell_type": "code",
   "execution_count": 15,
   "id": "a57e6429",
   "metadata": {},
   "outputs": [
    {
     "data": {
      "text/plain": [
       "Text(0, 0.5, 'Count of Amount Group')"
      ]
     },
     "execution_count": 15,
     "metadata": {},
     "output_type": "execute_result"
    },
    {
     "data": {
      "image/png": "[encoded data removed]",
      "text/plain": [
       "<Figure size 720x360 with 1 Axes>"
      ]
     },
     "metadata": {
      "needs_background": "light"
     },
     "output_type": "display_data"
    }
   ],
   "source": [
    "# visualize amount group\n",
    "\n",
    "plt.figure(figsize=(10,5))\n",
    "plt.ticklabel_format(style='plain')\n",
    "viz = sns.countplot(x = \"amount_group\", data = df)\n",
    "viz.set_xticklabels(viz.get_xticklabels(), rotation=90)\n",
    "for i in viz.patches:\n",
    "    height = i.get_height()\n",
    "    viz.text(i.get_x() + i.get_width()/2., height + 0.1, height, ha=\"center\")\n",
    "sns.countplot(x=\"amount_group\", data=df)\n",
    "plt.title(\"Catergory of Amount\")\n",
    "plt.xlabel(\"Amount Group\")\n",
    "plt.ylabel(\"Count of Amount Group\")"
   ]
  },
  {
   "cell_type": "code",
   "execution_count": 16,
   "id": "420341b7",
   "metadata": {},
   "outputs": [
    {
     "data": {
      "text/html": [
       "<div>\n",
       "<style scoped>\n",
       "    .dataframe tbody tr th:only-of-type {\n",
       "        vertical-align: middle;\n",
       "    }\n",
       "\n",
       "    .dataframe tbody tr th {\n",
       "        vertical-align: top;\n",
       "    }\n",
       "\n",
       "    .dataframe thead th {\n",
       "        text-align: right;\n",
       "    }\n",
       "</style>\n",
       "<table border=\"1\" class=\"dataframe\">\n",
       "  <thead>\n",
       "    <tr style=\"text-align: right;\">\n",
       "      <th></th>\n",
       "      <th>step</th>\n",
       "      <th>transaction type</th>\n",
       "      <th>amount</th>\n",
       "      <th>previous balance</th>\n",
       "      <th>present balance</th>\n",
       "      <th>receiver previous balance</th>\n",
       "      <th>receiver present balance</th>\n",
       "      <th>fraudulent transaction</th>\n",
       "      <th>amount_group</th>\n",
       "      <th>previous_balance_group</th>\n",
       "    </tr>\n",
       "  </thead>\n",
       "  <tbody>\n",
       "    <tr>\n",
       "      <th>0</th>\n",
       "      <td>1</td>\n",
       "      <td>PAYMENT</td>\n",
       "      <td>9839.64</td>\n",
       "      <td>170136.0</td>\n",
       "      <td>160296.36</td>\n",
       "      <td>0.0</td>\n",
       "      <td>0.0</td>\n",
       "      <td>0</td>\n",
       "      <td>&lt;=2M</td>\n",
       "      <td>&lt;=7.7M</td>\n",
       "    </tr>\n",
       "    <tr>\n",
       "      <th>1</th>\n",
       "      <td>1</td>\n",
       "      <td>PAYMENT</td>\n",
       "      <td>1864.28</td>\n",
       "      <td>21249.0</td>\n",
       "      <td>19384.72</td>\n",
       "      <td>0.0</td>\n",
       "      <td>0.0</td>\n",
       "      <td>0</td>\n",
       "      <td>&lt;=2M</td>\n",
       "      <td>&lt;=7.7M</td>\n",
       "    </tr>\n",
       "    <tr>\n",
       "      <th>2</th>\n",
       "      <td>1</td>\n",
       "      <td>TRANSFER</td>\n",
       "      <td>181.00</td>\n",
       "      <td>181.0</td>\n",
       "      <td>0.00</td>\n",
       "      <td>0.0</td>\n",
       "      <td>0.0</td>\n",
       "      <td>1</td>\n",
       "      <td>&lt;=2M</td>\n",
       "      <td>&lt;=7.7M</td>\n",
       "    </tr>\n",
       "    <tr>\n",
       "      <th>3</th>\n",
       "      <td>1</td>\n",
       "      <td>CASH_OUT</td>\n",
       "      <td>181.00</td>\n",
       "      <td>181.0</td>\n",
       "      <td>0.00</td>\n",
       "      <td>21182.0</td>\n",
       "      <td>0.0</td>\n",
       "      <td>1</td>\n",
       "      <td>&lt;=2M</td>\n",
       "      <td>&lt;=7.7M</td>\n",
       "    </tr>\n",
       "    <tr>\n",
       "      <th>4</th>\n",
       "      <td>1</td>\n",
       "      <td>PAYMENT</td>\n",
       "      <td>11668.14</td>\n",
       "      <td>41554.0</td>\n",
       "      <td>29885.86</td>\n",
       "      <td>0.0</td>\n",
       "      <td>0.0</td>\n",
       "      <td>0</td>\n",
       "      <td>&lt;=2M</td>\n",
       "      <td>&lt;=7.7M</td>\n",
       "    </tr>\n",
       "  </tbody>\n",
       "</table>\n",
       "</div>"
      ],
      "text/plain": [
       "   step transaction type    amount  previous balance  present balance  \\\n",
       "0     1          PAYMENT   9839.64          170136.0        160296.36   \n",
       "1     1          PAYMENT   1864.28           21249.0         19384.72   \n",
       "2     1         TRANSFER    181.00             181.0             0.00   \n",
       "3     1         CASH_OUT    181.00             181.0             0.00   \n",
       "4     1          PAYMENT  11668.14           41554.0         29885.86   \n",
       "\n",
       "   receiver previous balance  receiver present balance  \\\n",
       "0                        0.0                       0.0   \n",
       "1                        0.0                       0.0   \n",
       "2                        0.0                       0.0   \n",
       "3                    21182.0                       0.0   \n",
       "4                        0.0                       0.0   \n",
       "\n",
       "   fraudulent transaction amount_group previous_balance_group  \n",
       "0                       0         <=2M                 <=7.7M  \n",
       "1                       0         <=2M                 <=7.7M  \n",
       "2                       1         <=2M                 <=7.7M  \n",
       "3                       1         <=2M                 <=7.7M  \n",
       "4                       0         <=2M                 <=7.7M  "
      ]
     },
     "execution_count": 16,
     "metadata": {},
     "output_type": "execute_result"
    }
   ],
   "source": [
    "# previous balance\n",
    "\n",
    "# create a function that categorises previous balance\n",
    "\n",
    "def pb_bracket(previous_balance):\n",
    "    if previous_balance <= 7780000:\n",
    "        return \"<=7.7M\"\n",
    "    elif previous_balance <=15560000:\n",
    "        return \"<=15.5M\"\n",
    "    elif previous_balance <=23340000:\n",
    "        return \"<=23.3M\"\n",
    "    elif previous_balance <= 31120000:\n",
    "        return \"<=31.1M\"\n",
    "    else: \n",
    "        return \">31.1M\"\n",
    "    \n",
    "# create a new function for previous balance category\n",
    "\n",
    "df[\"previous_balance_group\"] = df[\"previous balance\"].apply(pb_bracket)\n",
    "\n",
    "df.head()"
   ]
  },
  {
   "cell_type": "code",
   "execution_count": 17,
   "id": "42b83b0b",
   "metadata": {},
   "outputs": [
    {
     "data": {
      "text/plain": [
       "Text(0, 0.5, 'Count of Previous Balance Group')"
      ]
     },
     "execution_count": 17,
     "metadata": {},
     "output_type": "execute_result"
    },
    {
     "data": {
      "image/png": "[encoded data removed]",
      "text/plain": [
       "<Figure size 720x360 with 1 Axes>"
      ]
     },
     "metadata": {
      "needs_background": "light"
     },
     "output_type": "display_data"
    }
   ],
   "source": [
    "# visualize previous balance\n",
    "\n",
    "plt.figure(figsize=(10,5))\n",
    "plt.ticklabel_format(style='plain')\n",
    "viz = sns.countplot(x = \"previous_balance_group\", data = df)\n",
    "viz.set_xticklabels(viz.get_xticklabels(), rotation=90)\n",
    "for i in viz.patches:\n",
    "    height = i.get_height()\n",
    "    viz.text(i.get_x() + i.get_width()/2., height + 0.1, height, ha=\"center\")\n",
    "sns.countplot(x=\"previous_balance_group\", data=df)\n",
    "plt.title(\"Catergory of Previous Balance\")\n",
    "plt.xlabel(\"Previous Balance Group\")\n",
    "plt.ylabel(\"Count of Previous Balance Group\")"
   ]
  },
  {
   "cell_type": "code",
   "execution_count": 18,
   "id": "6cd80846",
   "metadata": {},
   "outputs": [
    {
     "data": {
      "text/html": [
       "<div>\n",
       "<style scoped>\n",
       "    .dataframe tbody tr th:only-of-type {\n",
       "        vertical-align: middle;\n",
       "    }\n",
       "\n",
       "    .dataframe tbody tr th {\n",
       "        vertical-align: top;\n",
       "    }\n",
       "\n",
       "    .dataframe thead th {\n",
       "        text-align: right;\n",
       "    }\n",
       "</style>\n",
       "<table border=\"1\" class=\"dataframe\">\n",
       "  <thead>\n",
       "    <tr style=\"text-align: right;\">\n",
       "      <th></th>\n",
       "      <th>step</th>\n",
       "      <th>transaction type</th>\n",
       "      <th>amount</th>\n",
       "      <th>previous balance</th>\n",
       "      <th>present balance</th>\n",
       "      <th>receiver previous balance</th>\n",
       "      <th>receiver present balance</th>\n",
       "      <th>fraudulent transaction</th>\n",
       "      <th>amount_group</th>\n",
       "      <th>previous_balance_group</th>\n",
       "      <th>present_balance_group</th>\n",
       "    </tr>\n",
       "  </thead>\n",
       "  <tbody>\n",
       "    <tr>\n",
       "      <th>0</th>\n",
       "      <td>1</td>\n",
       "      <td>PAYMENT</td>\n",
       "      <td>9839.64</td>\n",
       "      <td>170136.0</td>\n",
       "      <td>160296.36</td>\n",
       "      <td>0.0</td>\n",
       "      <td>0.0</td>\n",
       "      <td>0</td>\n",
       "      <td>&lt;=2M</td>\n",
       "      <td>&lt;=7.7M</td>\n",
       "      <td>&lt;=7.7M</td>\n",
       "    </tr>\n",
       "    <tr>\n",
       "      <th>1</th>\n",
       "      <td>1</td>\n",
       "      <td>PAYMENT</td>\n",
       "      <td>1864.28</td>\n",
       "      <td>21249.0</td>\n",
       "      <td>19384.72</td>\n",
       "      <td>0.0</td>\n",
       "      <td>0.0</td>\n",
       "      <td>0</td>\n",
       "      <td>&lt;=2M</td>\n",
       "      <td>&lt;=7.7M</td>\n",
       "      <td>&lt;=7.7M</td>\n",
       "    </tr>\n",
       "    <tr>\n",
       "      <th>2</th>\n",
       "      <td>1</td>\n",
       "      <td>TRANSFER</td>\n",
       "      <td>181.00</td>\n",
       "      <td>181.0</td>\n",
       "      <td>0.00</td>\n",
       "      <td>0.0</td>\n",
       "      <td>0.0</td>\n",
       "      <td>1</td>\n",
       "      <td>&lt;=2M</td>\n",
       "      <td>&lt;=7.7M</td>\n",
       "      <td>&lt;=7.7M</td>\n",
       "    </tr>\n",
       "    <tr>\n",
       "      <th>3</th>\n",
       "      <td>1</td>\n",
       "      <td>CASH_OUT</td>\n",
       "      <td>181.00</td>\n",
       "      <td>181.0</td>\n",
       "      <td>0.00</td>\n",
       "      <td>21182.0</td>\n",
       "      <td>0.0</td>\n",
       "      <td>1</td>\n",
       "      <td>&lt;=2M</td>\n",
       "      <td>&lt;=7.7M</td>\n",
       "      <td>&lt;=7.7M</td>\n",
       "    </tr>\n",
       "    <tr>\n",
       "      <th>4</th>\n",
       "      <td>1</td>\n",
       "      <td>PAYMENT</td>\n",
       "      <td>11668.14</td>\n",
       "      <td>41554.0</td>\n",
       "      <td>29885.86</td>\n",
       "      <td>0.0</td>\n",
       "      <td>0.0</td>\n",
       "      <td>0</td>\n",
       "      <td>&lt;=2M</td>\n",
       "      <td>&lt;=7.7M</td>\n",
       "      <td>&lt;=7.7M</td>\n",
       "    </tr>\n",
       "  </tbody>\n",
       "</table>\n",
       "</div>"
      ],
      "text/plain": [
       "   step transaction type    amount  previous balance  present balance  \\\n",
       "0     1          PAYMENT   9839.64          170136.0        160296.36   \n",
       "1     1          PAYMENT   1864.28           21249.0         19384.72   \n",
       "2     1         TRANSFER    181.00             181.0             0.00   \n",
       "3     1         CASH_OUT    181.00             181.0             0.00   \n",
       "4     1          PAYMENT  11668.14           41554.0         29885.86   \n",
       "\n",
       "   receiver previous balance  receiver present balance  \\\n",
       "0                        0.0                       0.0   \n",
       "1                        0.0                       0.0   \n",
       "2                        0.0                       0.0   \n",
       "3                    21182.0                       0.0   \n",
       "4                        0.0                       0.0   \n",
       "\n",
       "   fraudulent transaction amount_group previous_balance_group  \\\n",
       "0                       0         <=2M                 <=7.7M   \n",
       "1                       0         <=2M                 <=7.7M   \n",
       "2                       1         <=2M                 <=7.7M   \n",
       "3                       1         <=2M                 <=7.7M   \n",
       "4                       0         <=2M                 <=7.7M   \n",
       "\n",
       "  present_balance_group  \n",
       "0                <=7.7M  \n",
       "1                <=7.7M  \n",
       "2                <=7.7M  \n",
       "3                <=7.7M  \n",
       "4                <=7.7M  "
      ]
     },
     "execution_count": 18,
     "metadata": {},
     "output_type": "execute_result"
    }
   ],
   "source": [
    "# present balance\n",
    "\n",
    "# create a function that categorises present balance\n",
    "\n",
    "def pb_bracket(present_balance):\n",
    "    if present_balance <= 7780000:\n",
    "        return \"<=7.7M\"\n",
    "    elif present_balance <=15560000:\n",
    "        return \"<=15.5M\"\n",
    "    elif present_balance <=23340000:\n",
    "        return \"<=23.3M\"\n",
    "    elif present_balance <= 31120000:\n",
    "        return \"<=31.1M\"\n",
    "    else: \n",
    "        return \">31.1M\"\n",
    "    \n",
    "# create a new function for present balance category\n",
    "\n",
    "df[\"present_balance_group\"] = df[\"present balance\"].apply(pb_bracket)\n",
    "\n",
    "df.head()"
   ]
  },
  {
   "cell_type": "code",
   "execution_count": 19,
   "id": "7d11b23b",
   "metadata": {},
   "outputs": [
    {
     "data": {
      "text/plain": [
       "Text(0, 0.5, 'Count of Present Balance Group')"
      ]
     },
     "execution_count": 19,
     "metadata": {},
     "output_type": "execute_result"
    },
    {
     "data": {
      "image/png": "[encoded data removed]",
      "text/plain": [
       "<Figure size 720x360 with 1 Axes>"
      ]
     },
     "metadata": {
      "needs_background": "light"
     },
     "output_type": "display_data"
    }
   ],
   "source": [
    "# visualize present balance\n",
    "\n",
    "plt.figure(figsize=(10,5))\n",
    "plt.ticklabel_format(style='plain')\n",
    "viz = sns.countplot(x = \"present_balance_group\", data = df)\n",
    "viz.set_xticklabels(viz.get_xticklabels(), rotation=90)\n",
    "for i in viz.patches:\n",
    "    height = i.get_height()\n",
    "    viz.text(i.get_x() + i.get_width()/2., height + 0.1, height, ha=\"center\")\n",
    "sns.countplot(x=\"present_balance_group\", data=df)\n",
    "plt.title(\"Catergory of Present Balance\")\n",
    "plt.xlabel(\"Present Balance Group\")\n",
    "plt.ylabel(\"Count of Present Balance Group\")"
   ]
  },
  {
   "cell_type": "code",
   "execution_count": 20,
   "id": "daaed35f",
   "metadata": {},
   "outputs": [
    {
     "data": {
      "text/html": [
       "<div>\n",
       "<style scoped>\n",
       "    .dataframe tbody tr th:only-of-type {\n",
       "        vertical-align: middle;\n",
       "    }\n",
       "\n",
       "    .dataframe tbody tr th {\n",
       "        vertical-align: top;\n",
       "    }\n",
       "\n",
       "    .dataframe thead th {\n",
       "        text-align: right;\n",
       "    }\n",
       "</style>\n",
       "<table border=\"1\" class=\"dataframe\">\n",
       "  <thead>\n",
       "    <tr style=\"text-align: right;\">\n",
       "      <th></th>\n",
       "      <th>step</th>\n",
       "      <th>transaction type</th>\n",
       "      <th>amount</th>\n",
       "      <th>previous balance</th>\n",
       "      <th>present balance</th>\n",
       "      <th>receiver previous balance</th>\n",
       "      <th>receiver present balance</th>\n",
       "      <th>fraudulent transaction</th>\n",
       "      <th>amount_group</th>\n",
       "      <th>previous_balance_group</th>\n",
       "      <th>present_balance_group</th>\n",
       "      <th>receiver_previous_balance_group</th>\n",
       "    </tr>\n",
       "  </thead>\n",
       "  <tbody>\n",
       "    <tr>\n",
       "      <th>0</th>\n",
       "      <td>1</td>\n",
       "      <td>PAYMENT</td>\n",
       "      <td>9839.64</td>\n",
       "      <td>170136.0</td>\n",
       "      <td>160296.36</td>\n",
       "      <td>0.0</td>\n",
       "      <td>0.0</td>\n",
       "      <td>0</td>\n",
       "      <td>&lt;=2M</td>\n",
       "      <td>&lt;=7.7M</td>\n",
       "      <td>&lt;=7.7M</td>\n",
       "      <td>&lt;=8.4M</td>\n",
       "    </tr>\n",
       "    <tr>\n",
       "      <th>1</th>\n",
       "      <td>1</td>\n",
       "      <td>PAYMENT</td>\n",
       "      <td>1864.28</td>\n",
       "      <td>21249.0</td>\n",
       "      <td>19384.72</td>\n",
       "      <td>0.0</td>\n",
       "      <td>0.0</td>\n",
       "      <td>0</td>\n",
       "      <td>&lt;=2M</td>\n",
       "      <td>&lt;=7.7M</td>\n",
       "      <td>&lt;=7.7M</td>\n",
       "      <td>&lt;=8.4M</td>\n",
       "    </tr>\n",
       "    <tr>\n",
       "      <th>2</th>\n",
       "      <td>1</td>\n",
       "      <td>TRANSFER</td>\n",
       "      <td>181.00</td>\n",
       "      <td>181.0</td>\n",
       "      <td>0.00</td>\n",
       "      <td>0.0</td>\n",
       "      <td>0.0</td>\n",
       "      <td>1</td>\n",
       "      <td>&lt;=2M</td>\n",
       "      <td>&lt;=7.7M</td>\n",
       "      <td>&lt;=7.7M</td>\n",
       "      <td>&lt;=8.4M</td>\n",
       "    </tr>\n",
       "    <tr>\n",
       "      <th>3</th>\n",
       "      <td>1</td>\n",
       "      <td>CASH_OUT</td>\n",
       "      <td>181.00</td>\n",
       "      <td>181.0</td>\n",
       "      <td>0.00</td>\n",
       "      <td>21182.0</td>\n",
       "      <td>0.0</td>\n",
       "      <td>1</td>\n",
       "      <td>&lt;=2M</td>\n",
       "      <td>&lt;=7.7M</td>\n",
       "      <td>&lt;=7.7M</td>\n",
       "      <td>&lt;=8.4M</td>\n",
       "    </tr>\n",
       "    <tr>\n",
       "      <th>4</th>\n",
       "      <td>1</td>\n",
       "      <td>PAYMENT</td>\n",
       "      <td>11668.14</td>\n",
       "      <td>41554.0</td>\n",
       "      <td>29885.86</td>\n",
       "      <td>0.0</td>\n",
       "      <td>0.0</td>\n",
       "      <td>0</td>\n",
       "      <td>&lt;=2M</td>\n",
       "      <td>&lt;=7.7M</td>\n",
       "      <td>&lt;=7.7M</td>\n",
       "      <td>&lt;=8.4M</td>\n",
       "    </tr>\n",
       "  </tbody>\n",
       "</table>\n",
       "</div>"
      ],
      "text/plain": [
       "   step transaction type    amount  previous balance  present balance  \\\n",
       "0     1          PAYMENT   9839.64          170136.0        160296.36   \n",
       "1     1          PAYMENT   1864.28           21249.0         19384.72   \n",
       "2     1         TRANSFER    181.00             181.0             0.00   \n",
       "3     1         CASH_OUT    181.00             181.0             0.00   \n",
       "4     1          PAYMENT  11668.14           41554.0         29885.86   \n",
       "\n",
       "   receiver previous balance  receiver present balance  \\\n",
       "0                        0.0                       0.0   \n",
       "1                        0.0                       0.0   \n",
       "2                        0.0                       0.0   \n",
       "3                    21182.0                       0.0   \n",
       "4                        0.0                       0.0   \n",
       "\n",
       "   fraudulent transaction amount_group previous_balance_group  \\\n",
       "0                       0         <=2M                 <=7.7M   \n",
       "1                       0         <=2M                 <=7.7M   \n",
       "2                       1         <=2M                 <=7.7M   \n",
       "3                       1         <=2M                 <=7.7M   \n",
       "4                       0         <=2M                 <=7.7M   \n",
       "\n",
       "  present_balance_group receiver_previous_balance_group  \n",
       "0                <=7.7M                          <=8.4M  \n",
       "1                <=7.7M                          <=8.4M  \n",
       "2                <=7.7M                          <=8.4M  \n",
       "3                <=7.7M                          <=8.4M  \n",
       "4                <=7.7M                          <=8.4M  "
      ]
     },
     "execution_count": 20,
     "metadata": {},
     "output_type": "execute_result"
    }
   ],
   "source": [
    "# receiver previous balance\n",
    "\n",
    "# create a function that categorises receiver previous balance\n",
    "\n",
    "def rpb_bracket(receiver_previous_balance):\n",
    "    if receiver_previous_balance <= 8420000:\n",
    "        return \"<=8.4M\"\n",
    "    elif receiver_previous_balance <= 16840000:\n",
    "        return \"<=16.8M\"\n",
    "    elif receiver_previous_balance <= 25260000:\n",
    "        return \"<=25.2M\"\n",
    "    elif receiver_previous_balance <= 33680000:\n",
    "        return \"<=33.6M\"\n",
    "    else:\n",
    "        return \">33.6M)\"\n",
    "    \n",
    "# create a new function for receiver previous balance category\n",
    "\n",
    "df[\"receiver_previous_balance_group\"] = df[\"receiver previous balance\"].apply(rpb_bracket)\n",
    "\n",
    "df.head()"
   ]
  },
  {
   "cell_type": "code",
   "execution_count": 21,
   "id": "9f52e9c3",
   "metadata": {},
   "outputs": [
    {
     "data": {
      "text/plain": [
       "Text(0, 0.5, 'Count of Receiver Previous Balance Group')"
      ]
     },
     "execution_count": 21,
     "metadata": {},
     "output_type": "execute_result"
    },
    {
     "data": {
      "image/png": "[encoded data removed]",
      "text/plain": [
       "<Figure size 720x360 with 1 Axes>"
      ]
     },
     "metadata": {
      "needs_background": "light"
     },
     "output_type": "display_data"
    }
   ],
   "source": [
    "# receiver previous balance\n",
    "\n",
    "plt.figure(figsize=(10,5))\n",
    "plt.ticklabel_format(style='plain')\n",
    "viz = sns.countplot(x = \"receiver_previous_balance_group\", data = df)\n",
    "viz.set_xticklabels(viz.get_xticklabels(), rotation=90)\n",
    "for i in viz.patches:\n",
    "    height = i.get_height()\n",
    "    viz.text(i.get_x() + i.get_width()/2., height + 0.1, height, ha=\"center\")\n",
    "sns.countplot(x=\"receiver_previous_balance_group\", data=df)\n",
    "plt.title(\"Catergory of Receiver Previous Balance\")\n",
    "plt.xlabel(\"Receiver Previous Balance Group\")\n",
    "plt.ylabel(\"Count of Receiver Previous Balance Group\")"
   ]
  },
  {
   "cell_type": "code",
   "execution_count": 22,
   "id": "b52c85a6",
   "metadata": {},
   "outputs": [
    {
     "data": {
      "text/html": [
       "<div>\n",
       "<style scoped>\n",
       "    .dataframe tbody tr th:only-of-type {\n",
       "        vertical-align: middle;\n",
       "    }\n",
       "\n",
       "    .dataframe tbody tr th {\n",
       "        vertical-align: top;\n",
       "    }\n",
       "\n",
       "    .dataframe thead th {\n",
       "        text-align: right;\n",
       "    }\n",
       "</style>\n",
       "<table border=\"1\" class=\"dataframe\">\n",
       "  <thead>\n",
       "    <tr style=\"text-align: right;\">\n",
       "      <th></th>\n",
       "      <th>step</th>\n",
       "      <th>transaction type</th>\n",
       "      <th>amount</th>\n",
       "      <th>previous balance</th>\n",
       "      <th>present balance</th>\n",
       "      <th>receiver previous balance</th>\n",
       "      <th>receiver present balance</th>\n",
       "      <th>fraudulent transaction</th>\n",
       "      <th>amount_group</th>\n",
       "      <th>previous_balance_group</th>\n",
       "      <th>present_balance_group</th>\n",
       "      <th>receiver_previous_balance_group</th>\n",
       "      <th>receiver_present_balance_group</th>\n",
       "    </tr>\n",
       "  </thead>\n",
       "  <tbody>\n",
       "    <tr>\n",
       "      <th>0</th>\n",
       "      <td>1</td>\n",
       "      <td>PAYMENT</td>\n",
       "      <td>9839.64</td>\n",
       "      <td>170136.0</td>\n",
       "      <td>160296.36</td>\n",
       "      <td>0.0</td>\n",
       "      <td>0.0</td>\n",
       "      <td>0</td>\n",
       "      <td>&lt;=2M</td>\n",
       "      <td>&lt;=7.7M</td>\n",
       "      <td>&lt;=7.7M</td>\n",
       "      <td>&lt;=8.4M</td>\n",
       "      <td>&lt;=8.4M</td>\n",
       "    </tr>\n",
       "    <tr>\n",
       "      <th>1</th>\n",
       "      <td>1</td>\n",
       "      <td>PAYMENT</td>\n",
       "      <td>1864.28</td>\n",
       "      <td>21249.0</td>\n",
       "      <td>19384.72</td>\n",
       "      <td>0.0</td>\n",
       "      <td>0.0</td>\n",
       "      <td>0</td>\n",
       "      <td>&lt;=2M</td>\n",
       "      <td>&lt;=7.7M</td>\n",
       "      <td>&lt;=7.7M</td>\n",
       "      <td>&lt;=8.4M</td>\n",
       "      <td>&lt;=8.4M</td>\n",
       "    </tr>\n",
       "    <tr>\n",
       "      <th>2</th>\n",
       "      <td>1</td>\n",
       "      <td>TRANSFER</td>\n",
       "      <td>181.00</td>\n",
       "      <td>181.0</td>\n",
       "      <td>0.00</td>\n",
       "      <td>0.0</td>\n",
       "      <td>0.0</td>\n",
       "      <td>1</td>\n",
       "      <td>&lt;=2M</td>\n",
       "      <td>&lt;=7.7M</td>\n",
       "      <td>&lt;=7.7M</td>\n",
       "      <td>&lt;=8.4M</td>\n",
       "      <td>&lt;=8.4M</td>\n",
       "    </tr>\n",
       "    <tr>\n",
       "      <th>3</th>\n",
       "      <td>1</td>\n",
       "      <td>CASH_OUT</td>\n",
       "      <td>181.00</td>\n",
       "      <td>181.0</td>\n",
       "      <td>0.00</td>\n",
       "      <td>21182.0</td>\n",
       "      <td>0.0</td>\n",
       "      <td>1</td>\n",
       "      <td>&lt;=2M</td>\n",
       "      <td>&lt;=7.7M</td>\n",
       "      <td>&lt;=7.7M</td>\n",
       "      <td>&lt;=8.4M</td>\n",
       "      <td>&lt;=8.4M</td>\n",
       "    </tr>\n",
       "    <tr>\n",
       "      <th>4</th>\n",
       "      <td>1</td>\n",
       "      <td>PAYMENT</td>\n",
       "      <td>11668.14</td>\n",
       "      <td>41554.0</td>\n",
       "      <td>29885.86</td>\n",
       "      <td>0.0</td>\n",
       "      <td>0.0</td>\n",
       "      <td>0</td>\n",
       "      <td>&lt;=2M</td>\n",
       "      <td>&lt;=7.7M</td>\n",
       "      <td>&lt;=7.7M</td>\n",
       "      <td>&lt;=8.4M</td>\n",
       "      <td>&lt;=8.4M</td>\n",
       "    </tr>\n",
       "  </tbody>\n",
       "</table>\n",
       "</div>"
      ],
      "text/plain": [
       "   step transaction type    amount  previous balance  present balance  \\\n",
       "0     1          PAYMENT   9839.64          170136.0        160296.36   \n",
       "1     1          PAYMENT   1864.28           21249.0         19384.72   \n",
       "2     1         TRANSFER    181.00             181.0             0.00   \n",
       "3     1         CASH_OUT    181.00             181.0             0.00   \n",
       "4     1          PAYMENT  11668.14           41554.0         29885.86   \n",
       "\n",
       "   receiver previous balance  receiver present balance  \\\n",
       "0                        0.0                       0.0   \n",
       "1                        0.0                       0.0   \n",
       "2                        0.0                       0.0   \n",
       "3                    21182.0                       0.0   \n",
       "4                        0.0                       0.0   \n",
       "\n",
       "   fraudulent transaction amount_group previous_balance_group  \\\n",
       "0                       0         <=2M                 <=7.7M   \n",
       "1                       0         <=2M                 <=7.7M   \n",
       "2                       1         <=2M                 <=7.7M   \n",
       "3                       1         <=2M                 <=7.7M   \n",
       "4                       0         <=2M                 <=7.7M   \n",
       "\n",
       "  present_balance_group receiver_previous_balance_group  \\\n",
       "0                <=7.7M                          <=8.4M   \n",
       "1                <=7.7M                          <=8.4M   \n",
       "2                <=7.7M                          <=8.4M   \n",
       "3                <=7.7M                          <=8.4M   \n",
       "4                <=7.7M                          <=8.4M   \n",
       "\n",
       "  receiver_present_balance_group  \n",
       "0                         <=8.4M  \n",
       "1                         <=8.4M  \n",
       "2                         <=8.4M  \n",
       "3                         <=8.4M  \n",
       "4                         <=8.4M  "
      ]
     },
     "execution_count": 22,
     "metadata": {},
     "output_type": "execute_result"
    }
   ],
   "source": [
    "# receiver present balance\n",
    "\n",
    "# create a function that categorises receiver present balance\n",
    "\n",
    "def rpb_bracket(receiver_present_balance):\n",
    "    if receiver_present_balance <= 8420000:\n",
    "        return \"<=8.4M\"\n",
    "    elif receiver_present_balance <= 16840000:\n",
    "        return \"<=16.8M\"\n",
    "    elif receiver_present_balance <= 25260000:\n",
    "        return \"<=25.2M\"\n",
    "    elif receiver_present_balance <= 33680000:\n",
    "        return \"<=33.6M\"\n",
    "    else:\n",
    "        return \">33.6M)\"\n",
    "    \n",
    "# create a new function for receiver present balance category\n",
    "\n",
    "df[\"receiver_present_balance_group\"] = df[\"receiver present balance\"].apply(rpb_bracket)\n",
    "\n",
    "df.head()"
   ]
  },
  {
   "cell_type": "code",
   "execution_count": 23,
   "id": "16ef5394",
   "metadata": {},
   "outputs": [
    {
     "data": {
      "text/plain": [
       "Text(0, 0.5, 'Count of Receiver Present Balance Group')"
      ]
     },
     "execution_count": 23,
     "metadata": {},
     "output_type": "execute_result"
    },
    {
     "data": {
      "image/png": "[encoded data removed]",
      "text/plain": [
       "<Figure size 720x360 with 1 Axes>"
      ]
     },
     "metadata": {
      "needs_background": "light"
     },
     "output_type": "display_data"
    }
   ],
   "source": [
    "# receiver present balance\n",
    "\n",
    "plt.figure(figsize=(10,5))\n",
    "plt.ticklabel_format(style='plain')\n",
    "viz = sns.countplot(x = \"receiver_present_balance_group\", data = df)\n",
    "viz.set_xticklabels(viz.get_xticklabels(), rotation=90)\n",
    "for i in viz.patches:\n",
    "    height = i.get_height()\n",
    "    viz.text(i.get_x() + i.get_width()/2., height + 0.1, height, ha=\"center\")\n",
    "sns.countplot(x=\"receiver_present_balance_group\", data=df)\n",
    "plt.title(\"Catergory of Receiver Present Balance\")\n",
    "plt.xlabel(\"Receiver Present Balance Group\")\n",
    "plt.ylabel(\"Count of Receiver Present Balance Group\")"
   ]
  },
  {
   "cell_type": "code",
   "execution_count": 24,
   "id": "32b3ba84",
   "metadata": {},
   "outputs": [
    {
     "data": {
      "image/png": "[encoded data removed]",
      "text/plain": [
       "<Figure size 720x360 with 1 Axes>"
      ]
     },
     "metadata": {
      "needs_background": "light"
     },
     "output_type": "display_data"
    }
   ],
   "source": [
    "# step\n",
    "\n",
    "plt.figure(figsize = (10,5))\n",
    "sns.histplot(x = 'step', data = df)\n",
    "plt.title('Steps Count')\n",
    "plt.show()"
   ]
  },
  {
   "cell_type": "code",
   "execution_count": 25,
   "id": "a5ee0330",
   "metadata": {},
   "outputs": [
    {
     "data": {
      "image/png": "[encoded data removed]",
      "text/plain": [
       "<Figure size 720x360 with 1 Axes>"
      ]
     },
     "metadata": {
      "needs_background": "light"
     },
     "output_type": "display_data"
    }
   ],
   "source": [
    "# create visualization for transaction type \n",
    "\n",
    "plt.figure(figsize = (10,5))\n",
    "viz = sns.countplot(x=\"transaction type\", data = df)\n",
    "viz.set_xticklabels(viz.get_xticklabels(), rotation=90)\n",
    "for i in viz.patches:\n",
    "    height = i.get_height()\n",
    "    viz.text(i.get_x() + i.get_width()/2., height + 0.1, height, ha=\"center\")\n",
    "sns.countplot(x=\"transaction type\", data=df)\n",
    "sns.countplot(x ='transaction type', data=df)\n",
    "plt.title('Transaction Type')\n",
    "plt.show()"
   ]
  },
  {
   "cell_type": "code",
   "execution_count": 26,
   "id": "d1364b27",
   "metadata": {},
   "outputs": [
    {
     "data": {
      "image/png": "[encoded data removed]",
      "text/plain": [
       "<Figure size 720x360 with 1 Axes>"
      ]
     },
     "metadata": {
      "needs_background": "light"
     },
     "output_type": "display_data"
    }
   ],
   "source": [
    "# fraudulent transaction\n",
    "\n",
    "# create a function that categorises fraudulent transaction\n",
    "\n",
    "def ft_group(fraudulent_transaction):\n",
    "    if fraudulent_transaction == 1:\n",
    "        return 'Yes'\n",
    "    else:\n",
    "        return 'No'\n",
    "    \n",
    "df['ft_group'] = df['fraudulent transaction'].apply(ft_group)\n",
    "\n",
    "# create visualization for fraudulent transaction\n",
    "\n",
    "plt.figure(figsize = (10,5))\n",
    "viz = sns.countplot(x=\"fraudulent transaction\", data = df)\n",
    "viz.set_xticklabels(viz.get_xticklabels(), rotation=90)\n",
    "for i in viz.patches:\n",
    "    height = i.get_height()\n",
    "    viz.text(i.get_x() + i.get_width()/2., height + 0.1, height, ha=\"center\")\n",
    "sns.countplot(x=\"fraudulent transaction\", data=df)\n",
    "sns.countplot(x ='fraudulent transaction', data=df)\n",
    "plt.title('Fraudulent Transaction Type')\n",
    "plt.show()"
   ]
  },
  {
   "cell_type": "code",
   "execution_count": 27,
   "id": "d88a6007",
   "metadata": {},
   "outputs": [
    {
     "name": "stderr",
     "output_type": "stream",
     "text": [
      "posx and posy should be finite values\n",
      "posx and posy should be finite values\n",
      "posx and posy should be finite values\n",
      "posx and posy should be finite values\n",
      "posx and posy should be finite values\n",
      "posx and posy should be finite values\n"
     ]
    },
    {
     "data": {
      "image/png": "[encoded data removed]",
      "text/plain": [
       "<Figure size 720x360 with 1 Axes>"
      ]
     },
     "metadata": {
      "needs_background": "light"
     },
     "output_type": "display_data"
    }
   ],
   "source": [
    "#Create visualization for transaction type and fraudulent transaction\n",
    "\n",
    "plt.figure(figsize = (10,5))\n",
    "viz = sns.countplot(x=\"transaction type\", data = df, hue=\"fraudulent transaction\")\n",
    "viz.set_xticklabels(viz.get_xticklabels(), rotation=90)\n",
    "for i in viz.patches:\n",
    "    height = i.get_height()\n",
    "    viz.text(i.get_x() + i.get_width()/2., height + 0.1, height, ha=\"center\")\n",
    "sns.countplot(x=\"transaction type\", data=df)\n",
    "sns.countplot(x =\"transaction type\", data=df)\n",
    "plt.title('Transaction Type')\n",
    "plt.show()"
   ]
  },
  {
   "cell_type": "code",
   "execution_count": 28,
   "id": "306aa115",
   "metadata": {},
   "outputs": [
    {
     "data": {
      "text/plain": [
       "<AxesSubplot:title={'center':'Fraud Transaction Category'}, ylabel='ft_group'>"
      ]
     },
     "execution_count": 28,
     "metadata": {},
     "output_type": "execute_result"
    },
    {
     "data": {
      "image/png": "[encoded data removed]",
      "text/plain": [
       "<Figure size 720x360 with 1 Axes>"
      ]
     },
     "metadata": {},
     "output_type": "display_data"
    }
   ],
   "source": [
    "# fraudulent transaction\n",
    "\n",
    "# create a function that categorises fraudulent transaction\n",
    "\n",
    "def ft_group(fraudulent_transaction):\n",
    "    if fraudulent_transaction == 1:\n",
    "        return 'Yes'\n",
    "    else:\n",
    "        return 'No'\n",
    "    \n",
    "df['ft_group'] = df['fraudulent transaction'].apply(ft_group)\n",
    "\n",
    "#Create visualization for fraudulent transaction\n",
    "\n",
    "plt.figure(figsize = (10,5))\n",
    "plt.title('Fraud Transaction Category')\n",
    "df['ft_group'].value_counts(normalize=True).plot.pie(autopct=\"%.2f\")"
   ]
  },
  {
   "cell_type": "markdown",
   "id": "39b80026",
   "metadata": {},
   "source": [
    "### Bivariate Analysis"
   ]
  },
  {
   "cell_type": "code",
   "execution_count": 29,
   "id": "5ff1c71f",
   "metadata": {},
   "outputs": [
    {
     "data": {
      "text/plain": [
       "Text(0.5, 1.0, 'Transaction type by Amount')"
      ]
     },
     "execution_count": 29,
     "metadata": {},
     "output_type": "execute_result"
    },
    {
     "data": {
      "image/png": "[encoded data removed]",
      "text/plain": [
       "<Figure size 720x360 with 1 Axes>"
      ]
     },
     "metadata": {
      "needs_background": "light"
     },
     "output_type": "display_data"
    }
   ],
   "source": [
    "# transaction type by amount\n",
    "\n",
    "fig, ax1 = plt.subplots(figsize = (10,5))\n",
    "plt.ticklabel_format(style='plain')\n",
    "sns.barplot( x = \"transaction type\", y = \"amount\", data = df, ci = None)\n",
    "plt.title('Transaction type by Amount')"
   ]
  },
  {
   "cell_type": "markdown",
   "id": "7a559c12",
   "metadata": {},
   "source": [
    "### Multivariate Analysis"
   ]
  },
  {
   "cell_type": "code",
   "execution_count": 30,
   "id": "855f4330",
   "metadata": {},
   "outputs": [
    {
     "data": {
      "text/plain": [
       "Text(0.5, 1.0, 'Transaction type by Amount Per Fraud Transaction')"
      ]
     },
     "execution_count": 30,
     "metadata": {},
     "output_type": "execute_result"
    },
    {
     "data": {
      "image/png": "[encoded data removed]",
      "text/plain": [
       "<Figure size 720x360 with 1 Axes>"
      ]
     },
     "metadata": {
      "needs_background": "light"
     },
     "output_type": "display_data"
    }
   ],
   "source": [
    "# Transaction Type by Amount Per Fraud Transaction\n",
    "\n",
    "fig, ax1 = plt.subplots(figsize = (10,5))\n",
    "plt.ticklabel_format(style='plain')\n",
    "sns.barplot(ax =ax1, x = \"transaction type\", y = \"amount\", data = df, hue = \"fraudulent transaction\", ci = None)\n",
    "plt.title('Transaction type by Amount Per Fraud Transaction')"
   ]
  },
  {
   "cell_type": "markdown",
   "id": "9f6cf77e",
   "metadata": {},
   "source": [
    "### Correlation Analysis"
   ]
  },
  {
   "cell_type": "code",
   "execution_count": 31,
   "id": "602f7a01",
   "metadata": {},
   "outputs": [
    {
     "data": {
      "text/plain": [
       "<AxesSubplot:>"
      ]
     },
     "execution_count": 31,
     "metadata": {},
     "output_type": "execute_result"
    },
    {
     "data": {
      "image/png": "[encoded data removed]",
      "text/plain": [
       "<Figure size 432x288 with 2 Axes>"
      ]
     },
     "metadata": {
      "needs_background": "light"
     },
     "output_type": "display_data"
    }
   ],
   "source": [
    "# correlation Analysis\n",
    "\n",
    "correl = df.corr()\n",
    "\n",
    "\n",
    "# num = 10\n",
    "\n",
    "# cols = corel.nlargest(num, \"target\")[\"target\"].index\n",
    "sns.heatmap(correl, cbar=True, annot=True,fmt=\".2f\", annot_kws={'size': 12})"
   ]
  },
  {
   "cell_type": "markdown",
   "id": "bac01fa1",
   "metadata": {},
   "source": [
    "- Strong postive relationship betweeen previous balance and present balance.\n",
    "- Weak positive relationship between fraudulent transaction and amount."
   ]
  },
  {
   "cell_type": "markdown",
   "id": "7740f806",
   "metadata": {},
   "source": [
    "### Feature Engineering"
   ]
  },
  {
   "cell_type": "markdown",
   "id": "acef0070",
   "metadata": {},
   "source": [
    "### Encoding Categorical Variable- One Hot Code"
   ]
  },
  {
   "cell_type": "code",
   "execution_count": 32,
   "id": "e7d1d037",
   "metadata": {},
   "outputs": [
    {
     "data": {
      "text/html": [
       "<div>\n",
       "<style scoped>\n",
       "    .dataframe tbody tr th:only-of-type {\n",
       "        vertical-align: middle;\n",
       "    }\n",
       "\n",
       "    .dataframe tbody tr th {\n",
       "        vertical-align: top;\n",
       "    }\n",
       "\n",
       "    .dataframe thead th {\n",
       "        text-align: right;\n",
       "    }\n",
       "</style>\n",
       "<table border=\"1\" class=\"dataframe\">\n",
       "  <thead>\n",
       "    <tr style=\"text-align: right;\">\n",
       "      <th></th>\n",
       "      <th>CASH_IN</th>\n",
       "      <th>CASH_OUT</th>\n",
       "      <th>DEBIT</th>\n",
       "      <th>PAYMENT</th>\n",
       "      <th>TRANSFER</th>\n",
       "    </tr>\n",
       "  </thead>\n",
       "  <tbody>\n",
       "    <tr>\n",
       "      <th>0</th>\n",
       "      <td>0</td>\n",
       "      <td>0</td>\n",
       "      <td>0</td>\n",
       "      <td>1</td>\n",
       "      <td>0</td>\n",
       "    </tr>\n",
       "    <tr>\n",
       "      <th>1</th>\n",
       "      <td>0</td>\n",
       "      <td>0</td>\n",
       "      <td>0</td>\n",
       "      <td>1</td>\n",
       "      <td>0</td>\n",
       "    </tr>\n",
       "  </tbody>\n",
       "</table>\n",
       "</div>"
      ],
      "text/plain": [
       "   CASH_IN  CASH_OUT  DEBIT  PAYMENT  TRANSFER\n",
       "0        0         0      0        1         0\n",
       "1        0         0      0        1         0"
      ]
     },
     "execution_count": 32,
     "metadata": {},
     "output_type": "execute_result"
    }
   ],
   "source": [
    "# conversion of catergorical column to numeric\n",
    "\n",
    "transaction_type_num = pd.get_dummies(df[\"transaction type\"])\n",
    "transaction_type_num.head(2)"
   ]
  },
  {
   "cell_type": "code",
   "execution_count": 33,
   "id": "62e4b033",
   "metadata": {},
   "outputs": [
    {
     "name": "stdout",
     "output_type": "stream",
     "text": [
      "(1048575, 19)\n"
     ]
    },
    {
     "data": {
      "text/html": [
       "<div>\n",
       "<style scoped>\n",
       "    .dataframe tbody tr th:only-of-type {\n",
       "        vertical-align: middle;\n",
       "    }\n",
       "\n",
       "    .dataframe tbody tr th {\n",
       "        vertical-align: top;\n",
       "    }\n",
       "\n",
       "    .dataframe thead th {\n",
       "        text-align: right;\n",
       "    }\n",
       "</style>\n",
       "<table border=\"1\" class=\"dataframe\">\n",
       "  <thead>\n",
       "    <tr style=\"text-align: right;\">\n",
       "      <th></th>\n",
       "      <th>step</th>\n",
       "      <th>transaction type</th>\n",
       "      <th>amount</th>\n",
       "      <th>previous balance</th>\n",
       "      <th>present balance</th>\n",
       "      <th>receiver previous balance</th>\n",
       "      <th>receiver present balance</th>\n",
       "      <th>fraudulent transaction</th>\n",
       "      <th>amount_group</th>\n",
       "      <th>previous_balance_group</th>\n",
       "      <th>present_balance_group</th>\n",
       "      <th>receiver_previous_balance_group</th>\n",
       "      <th>receiver_present_balance_group</th>\n",
       "      <th>ft_group</th>\n",
       "      <th>CASH_IN</th>\n",
       "      <th>CASH_OUT</th>\n",
       "      <th>DEBIT</th>\n",
       "      <th>PAYMENT</th>\n",
       "      <th>TRANSFER</th>\n",
       "    </tr>\n",
       "  </thead>\n",
       "  <tbody>\n",
       "    <tr>\n",
       "      <th>0</th>\n",
       "      <td>1</td>\n",
       "      <td>PAYMENT</td>\n",
       "      <td>9839.64</td>\n",
       "      <td>170136.0</td>\n",
       "      <td>160296.36</td>\n",
       "      <td>0.0</td>\n",
       "      <td>0.0</td>\n",
       "      <td>0</td>\n",
       "      <td>&lt;=2M</td>\n",
       "      <td>&lt;=7.7M</td>\n",
       "      <td>&lt;=7.7M</td>\n",
       "      <td>&lt;=8.4M</td>\n",
       "      <td>&lt;=8.4M</td>\n",
       "      <td>No</td>\n",
       "      <td>0</td>\n",
       "      <td>0</td>\n",
       "      <td>0</td>\n",
       "      <td>1</td>\n",
       "      <td>0</td>\n",
       "    </tr>\n",
       "    <tr>\n",
       "      <th>1</th>\n",
       "      <td>1</td>\n",
       "      <td>PAYMENT</td>\n",
       "      <td>1864.28</td>\n",
       "      <td>21249.0</td>\n",
       "      <td>19384.72</td>\n",
       "      <td>0.0</td>\n",
       "      <td>0.0</td>\n",
       "      <td>0</td>\n",
       "      <td>&lt;=2M</td>\n",
       "      <td>&lt;=7.7M</td>\n",
       "      <td>&lt;=7.7M</td>\n",
       "      <td>&lt;=8.4M</td>\n",
       "      <td>&lt;=8.4M</td>\n",
       "      <td>No</td>\n",
       "      <td>0</td>\n",
       "      <td>0</td>\n",
       "      <td>0</td>\n",
       "      <td>1</td>\n",
       "      <td>0</td>\n",
       "    </tr>\n",
       "  </tbody>\n",
       "</table>\n",
       "</div>"
      ],
      "text/plain": [
       "   step transaction type   amount  previous balance  present balance  \\\n",
       "0     1          PAYMENT  9839.64          170136.0        160296.36   \n",
       "1     1          PAYMENT  1864.28           21249.0         19384.72   \n",
       "\n",
       "   receiver previous balance  receiver present balance  \\\n",
       "0                        0.0                       0.0   \n",
       "1                        0.0                       0.0   \n",
       "\n",
       "   fraudulent transaction amount_group previous_balance_group  \\\n",
       "0                       0         <=2M                 <=7.7M   \n",
       "1                       0         <=2M                 <=7.7M   \n",
       "\n",
       "  present_balance_group receiver_previous_balance_group  \\\n",
       "0                <=7.7M                          <=8.4M   \n",
       "1                <=7.7M                          <=8.4M   \n",
       "\n",
       "  receiver_present_balance_group ft_group  CASH_IN  CASH_OUT  DEBIT  PAYMENT  \\\n",
       "0                         <=8.4M       No        0         0      0        1   \n",
       "1                         <=8.4M       No        0         0      0        1   \n",
       "\n",
       "   TRANSFER  \n",
       "0         0  \n",
       "1         0  "
      ]
     },
     "execution_count": 33,
     "metadata": {},
     "output_type": "execute_result"
    }
   ],
   "source": [
    "# join the encoded variable back to the data frame\n",
    "\n",
    "df = pd.concat([df, transaction_type_num], axis = 1)\n",
    "\n",
    "# View data\n",
    "print(df.shape)\n",
    "df.head(2)"
   ]
  },
  {
   "cell_type": "code",
   "execution_count": 34,
   "id": "c868db45",
   "metadata": {},
   "outputs": [
    {
     "data": {
      "text/html": [
       "<div>\n",
       "<style scoped>\n",
       "    .dataframe tbody tr th:only-of-type {\n",
       "        vertical-align: middle;\n",
       "    }\n",
       "\n",
       "    .dataframe tbody tr th {\n",
       "        vertical-align: top;\n",
       "    }\n",
       "\n",
       "    .dataframe thead th {\n",
       "        text-align: right;\n",
       "    }\n",
       "</style>\n",
       "<table border=\"1\" class=\"dataframe\">\n",
       "  <thead>\n",
       "    <tr style=\"text-align: right;\">\n",
       "      <th></th>\n",
       "      <th>step</th>\n",
       "      <th>transaction type</th>\n",
       "      <th>amount</th>\n",
       "      <th>previous balance</th>\n",
       "      <th>present balance</th>\n",
       "      <th>receiver previous balance</th>\n",
       "      <th>receiver present balance</th>\n",
       "      <th>fraudulent transaction</th>\n",
       "      <th>CASH_IN</th>\n",
       "      <th>CASH_OUT</th>\n",
       "      <th>DEBIT</th>\n",
       "      <th>PAYMENT</th>\n",
       "      <th>TRANSFER</th>\n",
       "    </tr>\n",
       "  </thead>\n",
       "  <tbody>\n",
       "    <tr>\n",
       "      <th>0</th>\n",
       "      <td>1</td>\n",
       "      <td>PAYMENT</td>\n",
       "      <td>9839.64</td>\n",
       "      <td>170136.0</td>\n",
       "      <td>160296.36</td>\n",
       "      <td>0.0</td>\n",
       "      <td>0.0</td>\n",
       "      <td>0</td>\n",
       "      <td>0</td>\n",
       "      <td>0</td>\n",
       "      <td>0</td>\n",
       "      <td>1</td>\n",
       "      <td>0</td>\n",
       "    </tr>\n",
       "    <tr>\n",
       "      <th>1</th>\n",
       "      <td>1</td>\n",
       "      <td>PAYMENT</td>\n",
       "      <td>1864.28</td>\n",
       "      <td>21249.0</td>\n",
       "      <td>19384.72</td>\n",
       "      <td>0.0</td>\n",
       "      <td>0.0</td>\n",
       "      <td>0</td>\n",
       "      <td>0</td>\n",
       "      <td>0</td>\n",
       "      <td>0</td>\n",
       "      <td>1</td>\n",
       "      <td>0</td>\n",
       "    </tr>\n",
       "  </tbody>\n",
       "</table>\n",
       "</div>"
      ],
      "text/plain": [
       "   step transaction type   amount  previous balance  present balance  \\\n",
       "0     1          PAYMENT  9839.64          170136.0        160296.36   \n",
       "1     1          PAYMENT  1864.28           21249.0         19384.72   \n",
       "\n",
       "   receiver previous balance  receiver present balance  \\\n",
       "0                        0.0                       0.0   \n",
       "1                        0.0                       0.0   \n",
       "\n",
       "   fraudulent transaction  CASH_IN  CASH_OUT  DEBIT  PAYMENT  TRANSFER  \n",
       "0                       0        0         0      0        1         0  \n",
       "1                       0        0         0      0        1         0  "
      ]
     },
     "execution_count": 34,
     "metadata": {},
     "output_type": "execute_result"
    }
   ],
   "source": [
    "# drop other categorical data columns used for visualization purpose\n",
    "\n",
    "df.drop(['amount_group',\n",
    "       'previous_balance_group', 'present_balance_group',\n",
    "       'receiver_previous_balance_group', 'receiver_present_balance_group', 'ft_group'], axis = 1, inplace = True)\n",
    "\n",
    "df.head(2)"
   ]
  },
  {
   "cell_type": "code",
   "execution_count": 35,
   "id": "471eeb89",
   "metadata": {},
   "outputs": [
    {
     "data": {
      "text/html": [
       "<div>\n",
       "<style scoped>\n",
       "    .dataframe tbody tr th:only-of-type {\n",
       "        vertical-align: middle;\n",
       "    }\n",
       "\n",
       "    .dataframe tbody tr th {\n",
       "        vertical-align: top;\n",
       "    }\n",
       "\n",
       "    .dataframe thead th {\n",
       "        text-align: right;\n",
       "    }\n",
       "</style>\n",
       "<table border=\"1\" class=\"dataframe\">\n",
       "  <thead>\n",
       "    <tr style=\"text-align: right;\">\n",
       "      <th></th>\n",
       "      <th>step</th>\n",
       "      <th>amount</th>\n",
       "      <th>previous balance</th>\n",
       "      <th>present balance</th>\n",
       "      <th>receiver previous balance</th>\n",
       "      <th>receiver present balance</th>\n",
       "      <th>fraudulent transaction</th>\n",
       "      <th>CASH_IN</th>\n",
       "      <th>CASH_OUT</th>\n",
       "      <th>DEBIT</th>\n",
       "      <th>PAYMENT</th>\n",
       "      <th>TRANSFER</th>\n",
       "    </tr>\n",
       "  </thead>\n",
       "  <tbody>\n",
       "    <tr>\n",
       "      <th>0</th>\n",
       "      <td>1</td>\n",
       "      <td>9839.64</td>\n",
       "      <td>170136.0</td>\n",
       "      <td>160296.36</td>\n",
       "      <td>0.0</td>\n",
       "      <td>0.0</td>\n",
       "      <td>0</td>\n",
       "      <td>0</td>\n",
       "      <td>0</td>\n",
       "      <td>0</td>\n",
       "      <td>1</td>\n",
       "      <td>0</td>\n",
       "    </tr>\n",
       "    <tr>\n",
       "      <th>1</th>\n",
       "      <td>1</td>\n",
       "      <td>1864.28</td>\n",
       "      <td>21249.0</td>\n",
       "      <td>19384.72</td>\n",
       "      <td>0.0</td>\n",
       "      <td>0.0</td>\n",
       "      <td>0</td>\n",
       "      <td>0</td>\n",
       "      <td>0</td>\n",
       "      <td>0</td>\n",
       "      <td>1</td>\n",
       "      <td>0</td>\n",
       "    </tr>\n",
       "  </tbody>\n",
       "</table>\n",
       "</div>"
      ],
      "text/plain": [
       "   step   amount  previous balance  present balance  \\\n",
       "0     1  9839.64          170136.0        160296.36   \n",
       "1     1  1864.28           21249.0         19384.72   \n",
       "\n",
       "   receiver previous balance  receiver present balance  \\\n",
       "0                        0.0                       0.0   \n",
       "1                        0.0                       0.0   \n",
       "\n",
       "   fraudulent transaction  CASH_IN  CASH_OUT  DEBIT  PAYMENT  TRANSFER  \n",
       "0                       0        0         0      0        1         0  \n",
       "1                       0        0         0      0        1         0  "
      ]
     },
     "execution_count": 35,
     "metadata": {},
     "output_type": "execute_result"
    }
   ],
   "source": [
    "# drop transaction type column used for the one hot code\n",
    "\n",
    "df.drop('transaction type', axis = 1, inplace = True)\n",
    "\n",
    "df.head(2)"
   ]
  },
  {
   "cell_type": "markdown",
   "id": "9bace68f",
   "metadata": {},
   "source": [
    "### Creating Target X and y"
   ]
  },
  {
   "cell_type": "code",
   "execution_count": 36,
   "id": "61a0601b",
   "metadata": {},
   "outputs": [],
   "source": [
    "y = df['fraudulent transaction'] \n",
    "X = df.drop('fraudulent transaction', axis=1)"
   ]
  },
  {
   "cell_type": "code",
   "execution_count": 37,
   "id": "41fbf4cd",
   "metadata": {},
   "outputs": [
    {
     "data": {
      "text/plain": [
       "0    0\n",
       "1    0\n",
       "2    1\n",
       "3    1\n",
       "4    0\n",
       "Name: fraudulent transaction, dtype: int64"
      ]
     },
     "execution_count": 37,
     "metadata": {},
     "output_type": "execute_result"
    }
   ],
   "source": [
    "y.head()"
   ]
  },
  {
   "cell_type": "code",
   "execution_count": 38,
   "id": "a88d0036",
   "metadata": {},
   "outputs": [
    {
     "data": {
      "text/html": [
       "<div>\n",
       "<style scoped>\n",
       "    .dataframe tbody tr th:only-of-type {\n",
       "        vertical-align: middle;\n",
       "    }\n",
       "\n",
       "    .dataframe tbody tr th {\n",
       "        vertical-align: top;\n",
       "    }\n",
       "\n",
       "    .dataframe thead th {\n",
       "        text-align: right;\n",
       "    }\n",
       "</style>\n",
       "<table border=\"1\" class=\"dataframe\">\n",
       "  <thead>\n",
       "    <tr style=\"text-align: right;\">\n",
       "      <th></th>\n",
       "      <th>step</th>\n",
       "      <th>amount</th>\n",
       "      <th>previous balance</th>\n",
       "      <th>present balance</th>\n",
       "      <th>receiver previous balance</th>\n",
       "      <th>receiver present balance</th>\n",
       "      <th>CASH_IN</th>\n",
       "      <th>CASH_OUT</th>\n",
       "      <th>DEBIT</th>\n",
       "      <th>PAYMENT</th>\n",
       "      <th>TRANSFER</th>\n",
       "    </tr>\n",
       "  </thead>\n",
       "  <tbody>\n",
       "    <tr>\n",
       "      <th>0</th>\n",
       "      <td>1</td>\n",
       "      <td>9839.64</td>\n",
       "      <td>170136.0</td>\n",
       "      <td>160296.36</td>\n",
       "      <td>0.0</td>\n",
       "      <td>0.0</td>\n",
       "      <td>0</td>\n",
       "      <td>0</td>\n",
       "      <td>0</td>\n",
       "      <td>1</td>\n",
       "      <td>0</td>\n",
       "    </tr>\n",
       "    <tr>\n",
       "      <th>1</th>\n",
       "      <td>1</td>\n",
       "      <td>1864.28</td>\n",
       "      <td>21249.0</td>\n",
       "      <td>19384.72</td>\n",
       "      <td>0.0</td>\n",
       "      <td>0.0</td>\n",
       "      <td>0</td>\n",
       "      <td>0</td>\n",
       "      <td>0</td>\n",
       "      <td>1</td>\n",
       "      <td>0</td>\n",
       "    </tr>\n",
       "    <tr>\n",
       "      <th>2</th>\n",
       "      <td>1</td>\n",
       "      <td>181.00</td>\n",
       "      <td>181.0</td>\n",
       "      <td>0.00</td>\n",
       "      <td>0.0</td>\n",
       "      <td>0.0</td>\n",
       "      <td>0</td>\n",
       "      <td>0</td>\n",
       "      <td>0</td>\n",
       "      <td>0</td>\n",
       "      <td>1</td>\n",
       "    </tr>\n",
       "    <tr>\n",
       "      <th>3</th>\n",
       "      <td>1</td>\n",
       "      <td>181.00</td>\n",
       "      <td>181.0</td>\n",
       "      <td>0.00</td>\n",
       "      <td>21182.0</td>\n",
       "      <td>0.0</td>\n",
       "      <td>0</td>\n",
       "      <td>1</td>\n",
       "      <td>0</td>\n",
       "      <td>0</td>\n",
       "      <td>0</td>\n",
       "    </tr>\n",
       "    <tr>\n",
       "      <th>4</th>\n",
       "      <td>1</td>\n",
       "      <td>11668.14</td>\n",
       "      <td>41554.0</td>\n",
       "      <td>29885.86</td>\n",
       "      <td>0.0</td>\n",
       "      <td>0.0</td>\n",
       "      <td>0</td>\n",
       "      <td>0</td>\n",
       "      <td>0</td>\n",
       "      <td>1</td>\n",
       "      <td>0</td>\n",
       "    </tr>\n",
       "  </tbody>\n",
       "</table>\n",
       "</div>"
      ],
      "text/plain": [
       "   step    amount  previous balance  present balance  \\\n",
       "0     1   9839.64          170136.0        160296.36   \n",
       "1     1   1864.28           21249.0         19384.72   \n",
       "2     1    181.00             181.0             0.00   \n",
       "3     1    181.00             181.0             0.00   \n",
       "4     1  11668.14           41554.0         29885.86   \n",
       "\n",
       "   receiver previous balance  receiver present balance  CASH_IN  CASH_OUT  \\\n",
       "0                        0.0                       0.0        0         0   \n",
       "1                        0.0                       0.0        0         0   \n",
       "2                        0.0                       0.0        0         0   \n",
       "3                    21182.0                       0.0        0         1   \n",
       "4                        0.0                       0.0        0         0   \n",
       "\n",
       "   DEBIT  PAYMENT  TRANSFER  \n",
       "0      0        1         0  \n",
       "1      0        1         0  \n",
       "2      0        0         1  \n",
       "3      0        0         0  \n",
       "4      0        1         0  "
      ]
     },
     "execution_count": 38,
     "metadata": {},
     "output_type": "execute_result"
    }
   ],
   "source": [
    "X.head()"
   ]
  },
  {
   "cell_type": "markdown",
   "id": "367c3d91",
   "metadata": {},
   "source": [
    "### ML Algorithm 1"
   ]
  },
  {
   "cell_type": "code",
   "execution_count": 39,
   "id": "1074128d",
   "metadata": {},
   "outputs": [],
   "source": [
    "# Machine Learning\n",
    "from sklearn.model_selection import train_test_split\n",
    "\n",
    "# ML Algorithms\n",
    "from sklearn.ensemble import RandomForestClassifier\n",
    "\n",
    "from sklearn.neighbors import KNeighborsClassifier\n",
    "\n",
    "from sklearn.linear_model import LinearRegression\n",
    "\n",
    "# ML Metrics\n",
    "from sklearn.metrics import accuracy_score\n",
    "\n",
    "# To disable warnings\n",
    "\n",
    "import warnings\n",
    "warnings.filterwarnings(\"ignore\")"
   ]
  },
  {
   "cell_type": "code",
   "execution_count": 40,
   "id": "3f648e35",
   "metadata": {},
   "outputs": [
    {
     "data": {
      "text/plain": [
       "Index(['step', 'amount', 'previous balance', 'present balance',\n",
       "       'receiver previous balance', 'receiver present balance',\n",
       "       'fraudulent transaction', 'CASH_IN', 'CASH_OUT', 'DEBIT', 'PAYMENT',\n",
       "       'TRANSFER'],\n",
       "      dtype='object')"
      ]
     },
     "execution_count": 40,
     "metadata": {},
     "output_type": "execute_result"
    }
   ],
   "source": [
    "df.columns"
   ]
  },
  {
   "cell_type": "code",
   "execution_count": 41,
   "id": "4d4597e5",
   "metadata": {},
   "outputs": [],
   "source": [
    "# Data = x\n",
    "\n",
    "x = df[['step', 'amount', 'previous balance', 'present balance',\n",
    "       'receiver previous balance', 'receiver present balance',\n",
    "       'fraudulent transaction', 'CASH_IN', 'CASH_OUT', 'DEBIT', 'PAYMENT',\n",
    "       'TRANSFER']]\n",
    "\n",
    "# Label = y\n",
    "\n",
    "y = df[[\"fraudulent transaction\"]]"
   ]
  },
  {
   "cell_type": "code",
   "execution_count": 42,
   "id": "dbd491ea",
   "metadata": {},
   "outputs": [],
   "source": [
    "# Load three ML Algorithms\n",
    "\n",
    "classifiers = [[RandomForestClassifier(), \"Random Forest\"], [KNeighborsClassifier(), \"K-Nearest Neighbors\"], [LogisticRegression(), \"Logistic Regression\"]]"
   ]
  },
  {
   "cell_type": "code",
   "execution_count": 43,
   "id": "38f03668",
   "metadata": {},
   "outputs": [],
   "source": [
    "# Train Test Split (Training on 80% while Testing is 20%)\n",
    "\n",
    "X_train, X_test, y_train, y_test = train_test_split(x, y, test_size=0.2) \n",
    "\n",
    "accuracy_score_list = {}\n",
    "\n",
    "for i in classifiers:\n",
    "    model = i[0]\n",
    "    model.fit(X_train, y_train)\n",
    "    model_name= i[1]\n",
    "\n",
    "predict = model.predict(X_test)\n",
    "\n",
    "accuracy = accuracy_score(y_test, predict)\n",
    "\n",
    "accuracy_score_list[model_name] = ([str(round(accuracy * 100, 2)) + \"%\"])\n",
    "\n",
    "if model_name != classifiers[-1][1]:\n",
    "    print ('')"
   ]
  },
  {
   "cell_type": "code",
   "execution_count": 44,
   "id": "00c989ae",
   "metadata": {},
   "outputs": [
    {
     "data": {
      "text/plain": [
       "{'Logistic Regression': ['99.9%']}"
      ]
     },
     "execution_count": 44,
     "metadata": {},
     "output_type": "execute_result"
    }
   ],
   "source": [
    "accuracy_score_list"
   ]
  },
  {
   "cell_type": "code",
   "execution_count": 45,
   "id": "83bd4b19",
   "metadata": {},
   "outputs": [
    {
     "name": "stdout",
     "output_type": "stream",
     "text": [
      "Accuracy Score of ML Algorithms\n"
     ]
    },
    {
     "data": {
      "text/html": [
       "<div>\n",
       "<style scoped>\n",
       "    .dataframe tbody tr th:only-of-type {\n",
       "        vertical-align: middle;\n",
       "    }\n",
       "\n",
       "    .dataframe tbody tr th {\n",
       "        vertical-align: top;\n",
       "    }\n",
       "\n",
       "    .dataframe thead th {\n",
       "        text-align: right;\n",
       "    }\n",
       "</style>\n",
       "<table border=\"1\" class=\"dataframe\">\n",
       "  <thead>\n",
       "    <tr style=\"text-align: right;\">\n",
       "      <th></th>\n",
       "      <th>Logistic Regression</th>\n",
       "    </tr>\n",
       "  </thead>\n",
       "  <tbody>\n",
       "    <tr>\n",
       "      <th>0</th>\n",
       "      <td>99.9%</td>\n",
       "    </tr>\n",
       "  </tbody>\n",
       "</table>\n",
       "</div>"
      ],
      "text/plain": [
       "  Logistic Regression\n",
       "0               99.9%"
      ]
     },
     "execution_count": 45,
     "metadata": {},
     "output_type": "execute_result"
    }
   ],
   "source": [
    "print (\"Accuracy Score of ML Algorithms\")\n",
    "as_df = pd.DataFrame(accuracy_score_list)\n",
    "as_df"
   ]
  },
  {
   "cell_type": "markdown",
   "id": "389b551f",
   "metadata": {},
   "source": [
    "### ML Algorithm 2"
   ]
  },
  {
   "cell_type": "code",
   "execution_count": 80,
   "id": "f75eeb74",
   "metadata": {},
   "outputs": [],
   "source": [
    "# Machine Learning\n",
    "from sklearn.model_selection import train_test_split"
   ]
  },
  {
   "cell_type": "code",
   "execution_count": 81,
   "id": "49bad5e5",
   "metadata": {},
   "outputs": [],
   "source": [
    "X_train, X_test, y_train, y_test = train_test_split(x, y, test_size=0.2)"
   ]
  },
  {
   "cell_type": "code",
   "execution_count": 83,
   "id": "28de763a",
   "metadata": {},
   "outputs": [],
   "source": [
    "from sklearn.linear_model import LinearRegression\n",
    "\n",
    "clf = LogisticRegression()"
   ]
  },
  {
   "cell_type": "code",
   "execution_count": 84,
   "id": "9d71a928",
   "metadata": {},
   "outputs": [
    {
     "data": {
      "text/plain": [
       "LogisticRegression()"
      ]
     },
     "execution_count": 84,
     "metadata": {},
     "output_type": "execute_result"
    }
   ],
   "source": [
    "clf.fit(X_train,y_train)"
   ]
  },
  {
   "cell_type": "code",
   "execution_count": 85,
   "id": "f4d0b624",
   "metadata": {},
   "outputs": [
    {
     "data": {
      "text/plain": [
       "array([0, 0, 0, ..., 0, 0, 0], dtype=int64)"
      ]
     },
     "execution_count": 85,
     "metadata": {},
     "output_type": "execute_result"
    }
   ],
   "source": [
    "clf.predict(X_test)"
   ]
  },
  {
   "cell_type": "code",
   "execution_count": 86,
   "id": "db273d16",
   "metadata": {},
   "outputs": [
    {
     "data": {
      "text/html": [
       "<div>\n",
       "<style scoped>\n",
       "    .dataframe tbody tr th:only-of-type {\n",
       "        vertical-align: middle;\n",
       "    }\n",
       "\n",
       "    .dataframe tbody tr th {\n",
       "        vertical-align: top;\n",
       "    }\n",
       "\n",
       "    .dataframe thead th {\n",
       "        text-align: right;\n",
       "    }\n",
       "</style>\n",
       "<table border=\"1\" class=\"dataframe\">\n",
       "  <thead>\n",
       "    <tr style=\"text-align: right;\">\n",
       "      <th></th>\n",
       "      <th>fraudulent transaction</th>\n",
       "    </tr>\n",
       "  </thead>\n",
       "  <tbody>\n",
       "    <tr>\n",
       "      <th>352304</th>\n",
       "      <td>0</td>\n",
       "    </tr>\n",
       "    <tr>\n",
       "      <th>613574</th>\n",
       "      <td>0</td>\n",
       "    </tr>\n",
       "    <tr>\n",
       "      <th>628513</th>\n",
       "      <td>0</td>\n",
       "    </tr>\n",
       "    <tr>\n",
       "      <th>946127</th>\n",
       "      <td>0</td>\n",
       "    </tr>\n",
       "    <tr>\n",
       "      <th>972737</th>\n",
       "      <td>0</td>\n",
       "    </tr>\n",
       "    <tr>\n",
       "      <th>...</th>\n",
       "      <td>...</td>\n",
       "    </tr>\n",
       "    <tr>\n",
       "      <th>66836</th>\n",
       "      <td>0</td>\n",
       "    </tr>\n",
       "    <tr>\n",
       "      <th>222338</th>\n",
       "      <td>0</td>\n",
       "    </tr>\n",
       "    <tr>\n",
       "      <th>288817</th>\n",
       "      <td>0</td>\n",
       "    </tr>\n",
       "    <tr>\n",
       "      <th>187197</th>\n",
       "      <td>0</td>\n",
       "    </tr>\n",
       "    <tr>\n",
       "      <th>392175</th>\n",
       "      <td>0</td>\n",
       "    </tr>\n",
       "  </tbody>\n",
       "</table>\n",
       "<p>209715 rows × 1 columns</p>\n",
       "</div>"
      ],
      "text/plain": [
       "        fraudulent transaction\n",
       "352304                       0\n",
       "613574                       0\n",
       "628513                       0\n",
       "946127                       0\n",
       "972737                       0\n",
       "...                        ...\n",
       "66836                        0\n",
       "222338                       0\n",
       "288817                       0\n",
       "187197                       0\n",
       "392175                       0\n",
       "\n",
       "[209715 rows x 1 columns]"
      ]
     },
     "execution_count": 86,
     "metadata": {},
     "output_type": "execute_result"
    }
   ],
   "source": [
    "y_test"
   ]
  },
  {
   "cell_type": "code",
   "execution_count": 87,
   "id": "f057b891",
   "metadata": {},
   "outputs": [
    {
     "data": {
      "text/plain": [
       "0.9989938726366736"
      ]
     },
     "execution_count": 87,
     "metadata": {},
     "output_type": "execute_result"
    }
   ],
   "source": [
    "clf.score(X_test,y_test)"
   ]
  },
  {
   "cell_type": "code",
   "execution_count": 88,
   "id": "64c91417",
   "metadata": {},
   "outputs": [
    {
     "data": {
      "image/png": "[encoded data removed]",
      "text/plain": [
       "<Figure size 576x288 with 1 Axes>"
      ]
     },
     "metadata": {
      "needs_background": "light"
     },
     "output_type": "display_data"
    },
    {
     "name": "stdout",
     "output_type": "stream",
     "text": [
      "Precision: 0.57\n",
      "Recall: 0.36\n"
     ]
    }
   ],
   "source": [
    "# Calculate the confusion matrix for LinearRegressionClassifier\n",
    "\n",
    "conf_matrix = confusion_matrix(y_true=y_test, y_pred=clf.predict(X_test))\n",
    "\n",
    "# Print the confusion matrix\n",
    "\n",
    "fig, ax = plt.subplots(figsize=(8, 4))\n",
    "ax.matshow(conf_matrix, cmap=plt.cm.Oranges, alpha=0.2)\n",
    "for i in range(conf_matrix.shape[1]):\n",
    "    for j in range(conf_matrix.shape[0]):\n",
    "        ax.text(x=j, y=i,s=conf_matrix[i, j], va='center', ha='center', size='xx-large')\n",
    "        \n",
    "plt.xlabel('Predictions', fontsize=16)\n",
    "plt.ylabel('Actuals', fontsize=16)\n",
    "plt.title(' LinearRegression Confusion Matrix', fontsize=16)\n",
    "plt.show()\n",
    "\n",
    "print('Precision: %.2f' % precision_score(y_test, clf.predict(X_test)))\n",
    "print('Recall: %.2f' % recall_score(y_test, clf.predict(X_test)))"
   ]
  },
  {
   "cell_type": "code",
   "execution_count": 72,
   "id": "a52e648a",
   "metadata": {},
   "outputs": [],
   "source": [
    "# Machine Learning\n",
    "from sklearn.model_selection import train_test_split"
   ]
  },
  {
   "cell_type": "code",
   "execution_count": 73,
   "id": "5dc2e8e7",
   "metadata": {},
   "outputs": [],
   "source": [
    "X_train, X_test, y_train, y_test = train_test_split(x, y, test_size=0.2)"
   ]
  },
  {
   "cell_type": "code",
   "execution_count": 74,
   "id": "feabf9c7",
   "metadata": {},
   "outputs": [],
   "source": [
    "from sklearn.ensemble import RandomForestClassifier\n",
    "\n",
    "clf = RandomForestClassifier()"
   ]
  },
  {
   "cell_type": "code",
   "execution_count": 75,
   "id": "b0a4d1b5",
   "metadata": {},
   "outputs": [
    {
     "data": {
      "text/plain": [
       "RandomForestClassifier()"
      ]
     },
     "execution_count": 75,
     "metadata": {},
     "output_type": "execute_result"
    }
   ],
   "source": [
    "clf.fit(X_train,y_train)"
   ]
  },
  {
   "cell_type": "code",
   "execution_count": 76,
   "id": "4d963db1",
   "metadata": {},
   "outputs": [
    {
     "data": {
      "text/plain": [
       "array([0, 0, 0, ..., 0, 0, 0], dtype=int64)"
      ]
     },
     "execution_count": 76,
     "metadata": {},
     "output_type": "execute_result"
    }
   ],
   "source": [
    "clf.predict(X_test)"
   ]
  },
  {
   "cell_type": "code",
   "execution_count": 77,
   "id": "884ea881",
   "metadata": {},
   "outputs": [
    {
     "data": {
      "text/html": [
       "<div>\n",
       "<style scoped>\n",
       "    .dataframe tbody tr th:only-of-type {\n",
       "        vertical-align: middle;\n",
       "    }\n",
       "\n",
       "    .dataframe tbody tr th {\n",
       "        vertical-align: top;\n",
       "    }\n",
       "\n",
       "    .dataframe thead th {\n",
       "        text-align: right;\n",
       "    }\n",
       "</style>\n",
       "<table border=\"1\" class=\"dataframe\">\n",
       "  <thead>\n",
       "    <tr style=\"text-align: right;\">\n",
       "      <th></th>\n",
       "      <th>fraudulent transaction</th>\n",
       "    </tr>\n",
       "  </thead>\n",
       "  <tbody>\n",
       "    <tr>\n",
       "      <th>29285</th>\n",
       "      <td>0</td>\n",
       "    </tr>\n",
       "    <tr>\n",
       "      <th>960915</th>\n",
       "      <td>0</td>\n",
       "    </tr>\n",
       "    <tr>\n",
       "      <th>266305</th>\n",
       "      <td>0</td>\n",
       "    </tr>\n",
       "    <tr>\n",
       "      <th>33816</th>\n",
       "      <td>0</td>\n",
       "    </tr>\n",
       "    <tr>\n",
       "      <th>849049</th>\n",
       "      <td>0</td>\n",
       "    </tr>\n",
       "    <tr>\n",
       "      <th>...</th>\n",
       "      <td>...</td>\n",
       "    </tr>\n",
       "    <tr>\n",
       "      <th>711547</th>\n",
       "      <td>0</td>\n",
       "    </tr>\n",
       "    <tr>\n",
       "      <th>515951</th>\n",
       "      <td>0</td>\n",
       "    </tr>\n",
       "    <tr>\n",
       "      <th>780762</th>\n",
       "      <td>0</td>\n",
       "    </tr>\n",
       "    <tr>\n",
       "      <th>240691</th>\n",
       "      <td>0</td>\n",
       "    </tr>\n",
       "    <tr>\n",
       "      <th>608373</th>\n",
       "      <td>0</td>\n",
       "    </tr>\n",
       "  </tbody>\n",
       "</table>\n",
       "<p>209715 rows × 1 columns</p>\n",
       "</div>"
      ],
      "text/plain": [
       "        fraudulent transaction\n",
       "29285                        0\n",
       "960915                       0\n",
       "266305                       0\n",
       "33816                        0\n",
       "849049                       0\n",
       "...                        ...\n",
       "711547                       0\n",
       "515951                       0\n",
       "780762                       0\n",
       "240691                       0\n",
       "608373                       0\n",
       "\n",
       "[209715 rows x 1 columns]"
      ]
     },
     "execution_count": 77,
     "metadata": {},
     "output_type": "execute_result"
    }
   ],
   "source": [
    "y_test"
   ]
  },
  {
   "cell_type": "code",
   "execution_count": 78,
   "id": "db0e09a7",
   "metadata": {},
   "outputs": [
    {
     "data": {
      "text/plain": [
       "1.0"
      ]
     },
     "execution_count": 78,
     "metadata": {},
     "output_type": "execute_result"
    }
   ],
   "source": [
    "clf.score(X_test,y_test)"
   ]
  },
  {
   "cell_type": "code",
   "execution_count": 79,
   "id": "7866c2c9",
   "metadata": {},
   "outputs": [
    {
     "data": {
      "image/png": "[encoded data removed]",
      "text/plain": [
       "<Figure size 576x288 with 1 Axes>"
      ]
     },
     "metadata": {
      "needs_background": "light"
     },
     "output_type": "display_data"
    },
    {
     "name": "stdout",
     "output_type": "stream",
     "text": [
      "Precision: 1.00\n",
      "Recall: 1.00\n"
     ]
    }
   ],
   "source": [
    "# Calculate the confusion matrix for RandomForestClassifier\n",
    "\n",
    "conf_matrix = confusion_matrix(y_true=y_test, y_pred=clf.predict(X_test))\n",
    "\n",
    "# Print the confusion matrix\n",
    "\n",
    "fig, ax = plt.subplots(figsize=(8, 4))\n",
    "ax.matshow(conf_matrix, cmap=plt.cm.Oranges, alpha=0.2)\n",
    "for i in range(conf_matrix.shape[1]):\n",
    "    for j in range(conf_matrix.shape[0]):\n",
    "        ax.text(x=j, y=i,s=conf_matrix[i, j], va='center', ha='center', size='xx-large')\n",
    "        \n",
    "plt.xlabel('Predictions', fontsize=16)\n",
    "plt.ylabel('Actuals', fontsize=16)\n",
    "plt.title(' RandomForest Confusion Matrix', fontsize=16)\n",
    "plt.show()\n",
    "\n",
    "print('Precision: %.2f' % precision_score(y_test, clf.predict(X_test)))\n",
    "print('Recall: %.2f' % recall_score(y_test, clf.predict(X_test)))"
   ]
  },
  {
   "cell_type": "code",
   "execution_count": 60,
   "id": "c1d633d5",
   "metadata": {},
   "outputs": [],
   "source": [
    "# Machine Learning\n",
    "from sklearn.model_selection import train_test_split"
   ]
  },
  {
   "cell_type": "code",
   "execution_count": 61,
   "id": "8b25095b",
   "metadata": {},
   "outputs": [],
   "source": [
    "X_train, X_test, y_train, y_test = train_test_split(x, y, test_size=0.2)"
   ]
  },
  {
   "cell_type": "code",
   "execution_count": 62,
   "id": "c8c5d62b",
   "metadata": {},
   "outputs": [],
   "source": [
    "from sklearn.neighbors import KNeighborsClassifier\n",
    "\n",
    "clf = KNeighborsClassifier()"
   ]
  },
  {
   "cell_type": "code",
   "execution_count": 63,
   "id": "c1341ca5",
   "metadata": {},
   "outputs": [
    {
     "data": {
      "text/plain": [
       "KNeighborsClassifier()"
      ]
     },
     "execution_count": 63,
     "metadata": {},
     "output_type": "execute_result"
    }
   ],
   "source": [
    "clf.fit(X_train,y_train)"
   ]
  },
  {
   "cell_type": "code",
   "execution_count": 64,
   "id": "23bb9f59",
   "metadata": {},
   "outputs": [
    {
     "data": {
      "text/plain": [
       "array([0, 0, 0, ..., 0, 0, 0], dtype=int64)"
      ]
     },
     "execution_count": 64,
     "metadata": {},
     "output_type": "execute_result"
    }
   ],
   "source": [
    "clf.predict(X_test)"
   ]
  },
  {
   "cell_type": "code",
   "execution_count": 65,
   "id": "a28087c8",
   "metadata": {},
   "outputs": [
    {
     "data": {
      "text/html": [
       "<div>\n",
       "<style scoped>\n",
       "    .dataframe tbody tr th:only-of-type {\n",
       "        vertical-align: middle;\n",
       "    }\n",
       "\n",
       "    .dataframe tbody tr th {\n",
       "        vertical-align: top;\n",
       "    }\n",
       "\n",
       "    .dataframe thead th {\n",
       "        text-align: right;\n",
       "    }\n",
       "</style>\n",
       "<table border=\"1\" class=\"dataframe\">\n",
       "  <thead>\n",
       "    <tr style=\"text-align: right;\">\n",
       "      <th></th>\n",
       "      <th>fraudulent transaction</th>\n",
       "    </tr>\n",
       "  </thead>\n",
       "  <tbody>\n",
       "    <tr>\n",
       "      <th>86486</th>\n",
       "      <td>0</td>\n",
       "    </tr>\n",
       "    <tr>\n",
       "      <th>909175</th>\n",
       "      <td>0</td>\n",
       "    </tr>\n",
       "    <tr>\n",
       "      <th>787571</th>\n",
       "      <td>0</td>\n",
       "    </tr>\n",
       "    <tr>\n",
       "      <th>912970</th>\n",
       "      <td>0</td>\n",
       "    </tr>\n",
       "    <tr>\n",
       "      <th>250445</th>\n",
       "      <td>0</td>\n",
       "    </tr>\n",
       "    <tr>\n",
       "      <th>...</th>\n",
       "      <td>...</td>\n",
       "    </tr>\n",
       "    <tr>\n",
       "      <th>773357</th>\n",
       "      <td>0</td>\n",
       "    </tr>\n",
       "    <tr>\n",
       "      <th>989048</th>\n",
       "      <td>0</td>\n",
       "    </tr>\n",
       "    <tr>\n",
       "      <th>276770</th>\n",
       "      <td>0</td>\n",
       "    </tr>\n",
       "    <tr>\n",
       "      <th>117326</th>\n",
       "      <td>0</td>\n",
       "    </tr>\n",
       "    <tr>\n",
       "      <th>726909</th>\n",
       "      <td>0</td>\n",
       "    </tr>\n",
       "  </tbody>\n",
       "</table>\n",
       "<p>209715 rows × 1 columns</p>\n",
       "</div>"
      ],
      "text/plain": [
       "        fraudulent transaction\n",
       "86486                        0\n",
       "909175                       0\n",
       "787571                       0\n",
       "912970                       0\n",
       "250445                       0\n",
       "...                        ...\n",
       "773357                       0\n",
       "989048                       0\n",
       "276770                       0\n",
       "117326                       0\n",
       "726909                       0\n",
       "\n",
       "[209715 rows x 1 columns]"
      ]
     },
     "execution_count": 65,
     "metadata": {},
     "output_type": "execute_result"
    }
   ],
   "source": [
    "y_test"
   ]
  },
  {
   "cell_type": "code",
   "execution_count": 66,
   "id": "501d1130",
   "metadata": {},
   "outputs": [
    {
     "data": {
      "text/plain": [
       "0.9994230264883294"
      ]
     },
     "execution_count": 66,
     "metadata": {},
     "output_type": "execute_result"
    }
   ],
   "source": [
    "clf.score(X_test,y_test)"
   ]
  },
  {
   "cell_type": "code",
   "execution_count": 70,
   "id": "888dfa0e",
   "metadata": {},
   "outputs": [
    {
     "data": {
      "image/png": "[encoded data removed]",
      "text/plain": [
       "<Figure size 576x288 with 1 Axes>"
      ]
     },
     "metadata": {
      "needs_background": "light"
     },
     "output_type": "display_data"
    },
    {
     "name": "stdout",
     "output_type": "stream",
     "text": [
      "Precision: 0.83\n",
      "Recall: 0.55\n"
     ]
    }
   ],
   "source": [
    "# Calculate the confusion matrix for KNeighborClassifier\n",
    "\n",
    "conf_matrix = confusion_matrix(y_true=y_test, y_pred=clf.predict(X_test))\n",
    "\n",
    "# Print the confusion matrix\n",
    "\n",
    "fig, ax = plt.subplots(figsize=(8, 4))\n",
    "ax.matshow(conf_matrix, cmap=plt.cm.Oranges, alpha=0.2)\n",
    "for i in range(conf_matrix.shape[1]):\n",
    "    for j in range(conf_matrix.shape[0]):\n",
    "        ax.text(x=j, y=i,s=conf_matrix[i, j], va='center', ha='center', size='xx-large')\n",
    "        \n",
    "plt.xlabel('Predictions', fontsize=16)\n",
    "plt.ylabel('Actuals', fontsize=16)\n",
    "plt.title(' KNeighbor Confusion Matrix', fontsize=16)\n",
    "plt.show()\n",
    "\n",
    "print('Precision: %.2f' % precision_score(y_test, clf.predict(X_test)))\n",
    "print('Recall: %.2f' % recall_score(y_test, clf.predict(X_test)))"
   ]
  },
  {
   "cell_type": "markdown",
   "id": "8a3417b7",
   "metadata": {},
   "source": [
    "### Summary\n",
    "\n",
    "Random Forest Classifier is selected as a better ML Algorithm to be deployed by Blossom Bank to predict online payment fraud as it has 0 FP and 0 FN with 100% accuracy."
   ]
  }
 ],
 "metadata": {
  "kernelspec": {
   "display_name": "Python 3 (ipykernel)",
   "language": "python",
   "name": "python3"
  },
  "language_info": {
   "codemirror_mode": {
    "name": "ipython",
    "version": 3
   },
   "file_extension": ".py",
   "mimetype": "text/x-python",
   "name": "python",
   "nbconvert_exporter": "python",
   "pygments_lexer": "ipython3",
   "version": "3.9.12"
  }
 },
 "nbformat": 4,
 "nbformat_minor": 5
}
